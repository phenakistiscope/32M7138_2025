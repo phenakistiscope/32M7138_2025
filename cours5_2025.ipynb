{
 "cells": [
  {
   "cell_type": "markdown",
   "id": "a191f1bc-e65e-49e1-be24-3bac464dc55d",
   "metadata": {
    "id": "a191f1bc-e65e-49e1-be24-3bac464dc55d"
   },
   "source": [
    "# Gérer des images + extraire les informations\n",
    "\n",
    "## Du pixel aux images - 32M7138\n",
    "\n",
    "*Printemps 2025 - Université de Genève*\n",
    "\n",
    "*Adrien Jeanrenaud (adrien.jeanrenaud@unige.ch)*"
   ]
  },
  {
   "cell_type": "markdown",
   "id": "bc6b2fd7-c445-4c5b-8ced-8b89e8c053af",
   "metadata": {
    "id": "bc6b2fd7-c445-4c5b-8ced-8b89e8c053af"
   },
   "source": [
    "<div class=\"alert alert-block alert-info\">\n",
    "<b>Manipulations des images partie 1</b> : jusque là nous avons manipulé les images une par. Dès aujourd'hui, nous allons voir comment manipuler les images en quatité, leur appliquer des transformations et extraire des informations:\n",
    "</div>\n",
    "\n",
    "## **Plan du cours**\n",
    "\n",
    "> **Importer des images**\n",
    "> * Rappel sur les chemins\n",
    "> * Une fonction pour importer un dossier\n",
    "> * Une fonction pour importer seulement des images\n",
    "\n",
    "> **Extraire des informations**\n",
    "> * Comment stocker les informations ?\n",
    "> * Extraire des informations de base\n",
    "> * Extraire des informations à l'aide d'un algorithme de détection d'objets\n",
    "\n",
    "> **Visualiser simplement ses données**\n",
    "> * Vérifier l'extraction des informations\n",
    "> * Visualiser à partir d'un tableau de données"
   ]
  },
  {
   "cell_type": "code",
   "execution_count": null,
   "id": "33531b85-4818-4e7b-9c40-c83007e1d1a4",
   "metadata": {
    "cellView": "form",
    "colab": {
     "base_uri": "https://localhost:8080/"
    },
    "id": "33531b85-4818-4e7b-9c40-c83007e1d1a4",
    "outputId": "7465d4b6-bb52-4cd7-b2dc-57c99502c525"
   },
   "outputs": [],
   "source": [
    "# @title\n",
    "# Uniquement pour Google Colab\n",
    "\n",
    "from google.colab import drive\n",
    "drive.mount('/content/drive')"
   ]
  },
  {
   "cell_type": "markdown",
   "id": "7e67e43c-1a87-4bd3-b95a-1ced4637d700",
   "metadata": {
    "id": "7e67e43c-1a87-4bd3-b95a-1ced4637d700"
   },
   "source": [
    "## 1. Importer des images\n",
    "\n",
    "Pour importer des images, il faut revenir aux cours précédents et se rappeler comment naviguer sur notre machine et cibler un dossier. Ensuite, il nous faut stocker les images dans une varaible. Le but final est de créer une fonction utilisable en tous temps.\n",
    "\n",
    "### Rappel sur les chemins\n",
    "\n",
    "La librairie \"os\" permet de naviguer sur notre machine et cibler un dossier avec des images."
   ]
  },
  {
   "cell_type": "code",
   "execution_count": null,
   "id": "5eaafcb9-c067-4e79-bff8-2b3cebc47b28",
   "metadata": {
    "id": "5eaafcb9-c067-4e79-bff8-2b3cebc47b28"
   },
   "outputs": [],
   "source": [
    "import os"
   ]
  },
  {
   "cell_type": "code",
   "execution_count": null,
   "id": "d6182846-dbfc-4810-b82a-8ce4eea43601",
   "metadata": {
    "id": "d6182846-dbfc-4810-b82a-8ce4eea43601"
   },
   "outputs": [],
   "source": [
    "# chercher le chemin à son dossier d'images\n",
    "\n",
    "path = \"/content/drive/MyDrive/cours/cours 2025/images\""
   ]
  },
  {
   "cell_type": "code",
   "execution_count": null,
   "id": "7d239a66-0a78-42a4-9a90-ee3e0aae129c",
   "metadata": {
    "colab": {
     "base_uri": "https://localhost:8080/"
    },
    "id": "7d239a66-0a78-42a4-9a90-ee3e0aae129c",
    "outputId": "36a93916-6cde-467a-ce8e-b44212a9b137"
   },
   "outputs": [],
   "source": [
    "os.path.isdir(path)"
   ]
  },
  {
   "cell_type": "code",
   "execution_count": null,
   "id": "ea47efd1-6eec-45b4-a52e-0378fdb97266",
   "metadata": {
    "colab": {
     "base_uri": "https://localhost:8080/"
    },
    "id": "ea47efd1-6eec-45b4-a52e-0378fdb97266",
    "outputId": "89241d76-f861-43a0-f3e4-b7423d9f8312"
   },
   "outputs": [],
   "source": [
    "# fichiers et dossiers au bout du chemin\n",
    "\n",
    "dossier_images = os.listdir(path)\n",
    "print(dossier_images)"
   ]
  },
  {
   "cell_type": "code",
   "execution_count": null,
   "id": "611b84b8-ded1-4c4a-9ac2-2182f0f6a13b",
   "metadata": {
    "colab": {
     "base_uri": "https://localhost:8080/",
     "height": 56
    },
    "id": "611b84b8-ded1-4c4a-9ac2-2182f0f6a13b",
    "outputId": "c41d69ce-247b-4899-edc3-6360d6722aa1"
   },
   "outputs": [],
   "source": [
    "dossier_images[0]"
   ]
  },
  {
   "cell_type": "code",
   "execution_count": null,
   "id": "86b281d8-f918-4762-8334-ae61f0af8879",
   "metadata": {
    "colab": {
     "base_uri": "https://localhost:8080/",
     "height": 56
    },
    "id": "86b281d8-f918-4762-8334-ae61f0af8879",
    "outputId": "1e91af9d-2ca7-4000-bf40-085de81c5ec7"
   },
   "outputs": [],
   "source": [
    "file = os.path.join(path, dossier_images[0])\n",
    "file"
   ]
  },
  {
   "cell_type": "code",
   "execution_count": null,
   "id": "95e9dbc8-ef67-432e-a437-33138261831d",
   "metadata": {
    "colab": {
     "base_uri": "https://localhost:8080/"
    },
    "id": "95e9dbc8-ef67-432e-a437-33138261831d",
    "outputId": "8373cafd-7e9e-4e07-895f-0b7e6f2c5f73"
   },
   "outputs": [],
   "source": [
    "os.path.isfile(file)"
   ]
  },
  {
   "cell_type": "markdown",
   "id": "a7a0786b-1738-4169-bcc3-8043e994622a",
   "metadata": {
    "id": "a7a0786b-1738-4169-bcc3-8043e994622a"
   },
   "source": [
    "### Une fonction pour importer un dossier\n",
    "\n",
    "Pour importer des images et les stocker il faut principalement:\n",
    "* scanner un dossier à l'aide d'une boucle\n",
    "* lire les images une à une\n",
    "* une liste vide pour stocker les images"
   ]
  },
  {
   "cell_type": "code",
   "execution_count": null,
   "id": "7322f7db-ff95-4c11-94d9-84b2bf8f0fc4",
   "metadata": {
    "colab": {
     "base_uri": "https://localhost:8080/"
    },
    "id": "7322f7db-ff95-4c11-94d9-84b2bf8f0fc4",
    "outputId": "03eb0e53-b728-4e4a-ba6f-01d7576e9189"
   },
   "outputs": [],
   "source": [
    "# Créer une boucle\n",
    "\n",
    "dossier = os.listdir(path)\n",
    "for files in dossier:\n",
    "    print(files)"
   ]
  },
  {
   "cell_type": "code",
   "execution_count": null,
   "id": "edcc6dc8-2069-43c5-a26f-6824c08bc048",
   "metadata": {
    "id": "edcc6dc8-2069-43c5-a26f-6824c08bc048"
   },
   "outputs": [],
   "source": [
    "# Pour lire les images\n",
    "\n",
    "import cv2\n",
    "import matplotlib.pyplot as plt"
   ]
  },
  {
   "cell_type": "code",
   "execution_count": null,
   "id": "03f1ae23-bf47-4fb6-a8d3-d2dd90f3e999",
   "metadata": {
    "colab": {
     "base_uri": "https://localhost:8080/"
    },
    "id": "03f1ae23-bf47-4fb6-a8d3-d2dd90f3e999",
    "outputId": "3a7f537a-d5d2-42f3-9dd3-109531728b79"
   },
   "outputs": [],
   "source": [
    "# Lire les images\n",
    "\n",
    "dossier = os.listdir(path)\n",
    "for files in dossier:\n",
    "    image_dossier = os.path.join(path, files) # on joint notre fichier à notre chemin\n",
    "    image = cv2.imread(image_dossier) # on utilise la fonction pour lire les images\n",
    "    print(image)"
   ]
  },
  {
   "cell_type": "code",
   "execution_count": null,
   "id": "3b7da238-1924-43eb-b39f-87d49a53a662",
   "metadata": {
    "colab": {
     "base_uri": "https://localhost:8080/"
    },
    "id": "3b7da238-1924-43eb-b39f-87d49a53a662",
    "outputId": "9d511429-1062-4e81-88cb-8fec66816c6d"
   },
   "outputs": [],
   "source": [
    "# Lire et enregistrer les images\n",
    "\n",
    "liste_images = [] # on crée une liste pour y enregister nos images\n",
    "dossier = os.listdir(path)\n",
    "for files in dossier:\n",
    "    image_dossier = os.path.join(path, files)\n",
    "    image = cv2.imread(image_dossier)\n",
    "    liste_images.append(image) # après avoir lu nos images, on les enregistre\n",
    "\n",
    "print(\"Nombre d'images : \", len(liste_images))"
   ]
  },
  {
   "cell_type": "code",
   "execution_count": null,
   "id": "78458845-9384-480d-8fcb-7b71e1418675",
   "metadata": {
    "colab": {
     "base_uri": "https://localhost:8080/"
    },
    "id": "78458845-9384-480d-8fcb-7b71e1418675",
    "outputId": "8afa0dce-ce99-4b58-c05a-09c09fffe712"
   },
   "outputs": [],
   "source": [
    "liste_images[0]"
   ]
  },
  {
   "cell_type": "code",
   "execution_count": null,
   "id": "f70f8a67-5dd5-4634-b41e-d2daf9c49986",
   "metadata": {
    "colab": {
     "base_uri": "https://localhost:8080/",
     "height": 456
    },
    "id": "f70f8a67-5dd5-4634-b41e-d2daf9c49986",
    "outputId": "d653869a-e814-40fe-e758-f858a2c99375"
   },
   "outputs": [],
   "source": [
    "plt.imshow(liste_images[0])\n",
    "plt.show()"
   ]
  },
  {
   "cell_type": "code",
   "execution_count": null,
   "id": "f2514928-439c-408c-956a-a8c35adaf7f3",
   "metadata": {
    "id": "f2514928-439c-408c-956a-a8c35adaf7f3"
   },
   "outputs": [],
   "source": [
    "# Créons une fonction simple pour importer les images d'un dossier\n",
    "\n",
    "def importer_images(chemin):\n",
    "\n",
    "    liste_images = []\n",
    "    dossier = os.listdir(path)\n",
    "    for files in dossier:\n",
    "        image_dossier = os.path.join(path, files)\n",
    "        image = cv2.imread(image_dossier)\n",
    "        liste_images.append(image)\n",
    "    return liste_images"
   ]
  },
  {
   "cell_type": "code",
   "execution_count": null,
   "id": "cfd02c8d-6eb7-4e38-9ad7-3738cf06497d",
   "metadata": {
    "id": "cfd02c8d-6eb7-4e38-9ad7-3738cf06497d"
   },
   "outputs": [],
   "source": [
    "# Utilisons la fonction\n",
    "\n",
    "mes_images = importer_images(chemin=path)"
   ]
  },
  {
   "cell_type": "code",
   "execution_count": null,
   "id": "5bb02fe5-ead7-4e4f-ae08-b00d391bc392",
   "metadata": {
    "colab": {
     "base_uri": "https://localhost:8080/"
    },
    "id": "5bb02fe5-ead7-4e4f-ae08-b00d391bc392",
    "outputId": "c674c00e-ddbc-4e42-bd2b-bbd008b837d1"
   },
   "outputs": [],
   "source": [
    "len(mes_images)"
   ]
  },
  {
   "cell_type": "markdown",
   "id": "93b42dcf-659a-4371-82ec-a2171cd3d55a",
   "metadata": {
    "id": "93b42dcf-659a-4371-82ec-a2171cd3d55a"
   },
   "source": [
    "### Une fonction pour importer seulement des images\n",
    "\n",
    "Pour importer uniquement les images d'un dossier, il faut ajouter des conditions à notre fonction."
   ]
  },
  {
   "cell_type": "code",
   "execution_count": null,
   "id": "9c4b7fad-3f53-452f-8700-5ca1f21bd360",
   "metadata": {
    "colab": {
     "base_uri": "https://localhost:8080/"
    },
    "id": "9c4b7fad-3f53-452f-8700-5ca1f21bd360",
    "outputId": "77722822-f5d8-4c46-c39a-64fd7874e130"
   },
   "outputs": [],
   "source": [
    "# Créer une boucle avec une condition\n",
    "\n",
    "dossier = os.listdir(path)\n",
    "for files in dossier:\n",
    "    if files.endswith('.jpg'):\n",
    "        print(files)"
   ]
  },
  {
   "cell_type": "code",
   "execution_count": null,
   "id": "3b22f776-cb87-4edf-b3fe-40458bf076c9",
   "metadata": {
    "colab": {
     "base_uri": "https://localhost:8080/"
    },
    "id": "3b22f776-cb87-4edf-b3fe-40458bf076c9",
    "outputId": "b5c87fb6-3c18-479b-f1c5-7ed514835577"
   },
   "outputs": [],
   "source": [
    "# Créer une boucle avec plusieurs conditions\n",
    "\n",
    "ext = [\".jpeg\", \".png\", \".jpg\"] # choisir les extensions qui définissent nos images\n",
    "dossier = os.listdir(path)\n",
    "for files in dossier:\n",
    "    if files.endswith(tuple(ext)): # ici le code change un peu pour intégrer les extensions\n",
    "        print(files)"
   ]
  },
  {
   "cell_type": "markdown",
   "id": "c77a297f-da1a-4549-be6b-ec7b8592adb3",
   "metadata": {
    "id": "c77a297f-da1a-4549-be6b-ec7b8592adb3"
   },
   "source": [
    "**Profitons-en pour changer l'ordre des canaux de couleurs**"
   ]
  },
  {
   "cell_type": "code",
   "execution_count": null,
   "id": "265267e2-2d1d-47ad-b597-4c5de01a782d",
   "metadata": {
    "id": "265267e2-2d1d-47ad-b597-4c5de01a782d"
   },
   "outputs": [],
   "source": [
    "def importer_images(path):\n",
    "\n",
    "    liste_images = []\n",
    "    ext = [\".jpeg\", \".png\", \".jpg\"]\n",
    "    dossier = os.listdir(path)\n",
    "    for files in dossier:\n",
    "        if files.endswith(tuple(ext)):\n",
    "            image_dossier = os.path.join(path, files)\n",
    "            image = cv2.imread(image_dossier)\n",
    "            image = cv2.cvtColor(image, cv2.COLOR_BGR2RGB)\n",
    "            liste_images.append(image)\n",
    "    return liste_images"
   ]
  },
  {
   "cell_type": "code",
   "execution_count": null,
   "id": "171f312b-54cb-42fe-8e34-dde282bcc630",
   "metadata": {
    "id": "171f312b-54cb-42fe-8e34-dde282bcc630"
   },
   "outputs": [],
   "source": [
    "# Utilisons la fonction\n",
    "\n",
    "mes_images = importer_images(path=path)"
   ]
  },
  {
   "cell_type": "code",
   "execution_count": null,
   "id": "fb5adaa7-1a3e-4912-8bb9-30bdd351ea87",
   "metadata": {
    "colab": {
     "base_uri": "https://localhost:8080/"
    },
    "id": "fb5adaa7-1a3e-4912-8bb9-30bdd351ea87",
    "outputId": "ae43873e-3f35-4309-bf70-60d59282796c"
   },
   "outputs": [],
   "source": [
    "len(mes_images)"
   ]
  },
  {
   "cell_type": "code",
   "execution_count": null,
   "id": "7d206f49-7dbe-4663-829f-f0d05c61649d",
   "metadata": {
    "colab": {
     "base_uri": "https://localhost:8080/",
     "height": 456
    },
    "id": "7d206f49-7dbe-4663-829f-f0d05c61649d",
    "outputId": "ee9de9c6-b06f-488e-9c94-c55d27d529fc"
   },
   "outputs": [],
   "source": [
    "plt.imshow(mes_images[0])\n",
    "plt.show()"
   ]
  },
  {
   "cell_type": "markdown",
   "id": "6f2fd42f-8644-4b17-99a6-6e9643fb0a90",
   "metadata": {
    "id": "6f2fd42f-8644-4b17-99a6-6e9643fb0a90"
   },
   "source": [
    "**Profitons-en pour garder le nom des images**"
   ]
  },
  {
   "cell_type": "code",
   "execution_count": null,
   "id": "a8b7e285-4fab-4462-aed3-fc874d0256be",
   "metadata": {
    "id": "a8b7e285-4fab-4462-aed3-fc874d0256be"
   },
   "outputs": [],
   "source": [
    "def importer_images(path):\n",
    "\n",
    "    filenames = []\n",
    "    liste_images = []\n",
    "    ext = [\".jpeg\", \".png\", \".jpg\"]\n",
    "    dossier = os.listdir(path)\n",
    "    for files in dossier:\n",
    "        if files.endswith(tuple(ext)):\n",
    "            image_dossier = os.path.join(path, files)\n",
    "            image = cv2.imread(image_dossier)\n",
    "            image = cv2.cvtColor(image, cv2.COLOR_BGR2RGB)\n",
    "            filenames.append(image_dossier)\n",
    "            liste_images.append(image)\n",
    "    return liste_images, filenames"
   ]
  },
  {
   "cell_type": "code",
   "execution_count": null,
   "id": "c40fcf1f-a64b-40ca-90dd-d92598788907",
   "metadata": {
    "id": "c40fcf1f-a64b-40ca-90dd-d92598788907"
   },
   "outputs": [],
   "source": [
    "# Utilisons la fonction\n",
    "\n",
    "mes_images, files2 = importer_images(path=path)"
   ]
  },
  {
   "cell_type": "code",
   "execution_count": null,
   "id": "e39abbcc-070b-4deb-a11b-f4dfdbf336dd",
   "metadata": {
    "colab": {
     "base_uri": "https://localhost:8080/"
    },
    "id": "e39abbcc-070b-4deb-a11b-f4dfdbf336dd",
    "outputId": "e0b2994b-aaf1-44b7-ef44-e847656f90c1"
   },
   "outputs": [],
   "source": [
    "len(mes_images)"
   ]
  },
  {
   "cell_type": "code",
   "execution_count": null,
   "id": "165dc3df-c2b2-4f5a-98d9-c393ff35fc1c",
   "metadata": {
    "colab": {
     "base_uri": "https://localhost:8080/"
    },
    "id": "165dc3df-c2b2-4f5a-98d9-c393ff35fc1c",
    "outputId": "cd1dede3-0577-4436-8454-42c9b62ce188"
   },
   "outputs": [],
   "source": [
    "files2"
   ]
  },
  {
   "cell_type": "markdown",
   "id": "d98e3acc-07f6-4af8-9aa8-4862ddd0651e",
   "metadata": {
    "id": "d98e3acc-07f6-4af8-9aa8-4862ddd0651e"
   },
   "source": [
    "## 2. Extraire des informations\n",
    "\n",
    "Lorsqu'on importe un dossier avec des images, il peut être utile d'en extraire des informations. Ces informations nous permettent de décrire nos données tout en rendant notre fonction plus robuste.\n",
    "\n",
    "### Rappel sur les informations\n",
    "\n",
    "Les informations sont d'une part extraites et d'autres part stockées.\n",
    "\n",
    "#### Les dictionnaires"
   ]
  },
  {
   "cell_type": "code",
   "execution_count": null,
   "id": "58cb2a18-3346-47cb-8c2f-64909614f7eb",
   "metadata": {
    "id": "58cb2a18-3346-47cb-8c2f-64909614f7eb"
   },
   "outputs": [],
   "source": [
    "# Rappel sur les dictionnaires\n",
    "\n",
    "# un dictionnaire se définit par des {}\n",
    "# la clé se définit sur la gauche, entre \" \"\n",
    "# entre la clé et la valeur, il y a :\n",
    "# la valeur se définit sur la droit, selon le type (str, int, float, ...)\n",
    "# entre chaque ligne, il y a une ,\n",
    "\n",
    "eleve = {\n",
    "    \"nom\" : \"Adrien\",\n",
    "    \"prenom\" : \"Jeanrenaud\"\n",
    "}"
   ]
  },
  {
   "cell_type": "code",
   "execution_count": null,
   "id": "c5dd6439-4860-4aec-a507-db09d011b24a",
   "metadata": {
    "colab": {
     "base_uri": "https://localhost:8080/"
    },
    "id": "c5dd6439-4860-4aec-a507-db09d011b24a",
    "outputId": "12c4814f-1076-41c8-9d4d-f120d4959f3c"
   },
   "outputs": [],
   "source": [
    "# L'objet\n",
    "\n",
    "print(eleve)"
   ]
  },
  {
   "cell_type": "code",
   "execution_count": null,
   "id": "197495b9-dafd-4d42-9aa8-fb3839107424",
   "metadata": {
    "colab": {
     "base_uri": "https://localhost:8080/"
    },
    "id": "197495b9-dafd-4d42-9aa8-fb3839107424",
    "outputId": "f30657cb-95e1-4c14-beea-e7050ddefa8f"
   },
   "outputs": [],
   "source": [
    "# Pour accéder aux éléments, par les clés\n",
    "\n",
    "print(eleve[\"nom\"])"
   ]
  },
  {
   "cell_type": "code",
   "execution_count": null,
   "id": "63d94a84-edb9-4d6a-a4cb-b3d70ecfa8d0",
   "metadata": {
    "id": "63d94a84-edb9-4d6a-a4cb-b3d70ecfa8d0"
   },
   "outputs": [],
   "source": [
    "eleves = {\n",
    "    \"nom\" : [\"Adrien\", \"Jean\", \"Michel\"],\n",
    "    \"prenom\" : [\"Jeanrenaud\", \"Martin\", \"Dupont\"]\n",
    "}"
   ]
  },
  {
   "cell_type": "code",
   "execution_count": null,
   "id": "b0b37b27-5175-4052-a396-abaaa2ad8fa9",
   "metadata": {
    "colab": {
     "base_uri": "https://localhost:8080/"
    },
    "id": "b0b37b27-5175-4052-a396-abaaa2ad8fa9",
    "outputId": "172953cc-ff53-4f1b-a819-ec19791181c2"
   },
   "outputs": [],
   "source": [
    "print(eleves)"
   ]
  },
  {
   "cell_type": "code",
   "execution_count": null,
   "id": "ea8e094c-6251-4cb6-92d8-ded575cd9dae",
   "metadata": {
    "colab": {
     "base_uri": "https://localhost:8080/"
    },
    "id": "ea8e094c-6251-4cb6-92d8-ded575cd9dae",
    "outputId": "55460268-30d8-49b2-8213-84adcd05cd3e"
   },
   "outputs": [],
   "source": [
    "print(eleves[\"nom\"])"
   ]
  },
  {
   "cell_type": "code",
   "execution_count": null,
   "id": "a18ce072-424a-4914-a648-6b7bc700a828",
   "metadata": {
    "colab": {
     "base_uri": "https://localhost:8080/"
    },
    "id": "a18ce072-424a-4914-a648-6b7bc700a828",
    "outputId": "791dd931-0ea2-4460-8cfe-d6e6ac204621"
   },
   "outputs": [],
   "source": [
    "print(eleves[\"nom\"][0])"
   ]
  },
  {
   "cell_type": "code",
   "execution_count": null,
   "id": "e1d2f31f-6297-419c-93d4-df4e9bae593a",
   "metadata": {
    "colab": {
     "base_uri": "https://localhost:8080/"
    },
    "id": "e1d2f31f-6297-419c-93d4-df4e9bae593a",
    "outputId": "c360a7f1-1677-4357-ec62-1960cca34a53"
   },
   "outputs": [],
   "source": [
    "#itérer dans le dictionnaire\n",
    "\n",
    "for key, value in eleves.items():\n",
    "    print(f\"{key}: {value}\")"
   ]
  },
  {
   "cell_type": "code",
   "execution_count": null,
   "id": "ed730fe3-8375-4615-af85-c75bb0f32535",
   "metadata": {
    "id": "ed730fe3-8375-4615-af85-c75bb0f32535"
   },
   "outputs": [],
   "source": [
    "# passer d'un dictionnaire à un tableur\n",
    "\n",
    "import pandas as pd"
   ]
  },
  {
   "cell_type": "code",
   "execution_count": null,
   "id": "fb03d810-a4d6-4f80-9def-97a05ed134c2",
   "metadata": {
    "colab": {
     "base_uri": "https://localhost:8080/",
     "height": 145
    },
    "id": "fb03d810-a4d6-4f80-9def-97a05ed134c2",
    "outputId": "bf123170-d7e5-43d5-d4bc-b8ab25facd75"
   },
   "outputs": [],
   "source": [
    "df = pd.DataFrame.from_dict(eleves, orient ='index')\n",
    "df"
   ]
  },
  {
   "cell_type": "markdown",
   "id": "49129920-1a41-4042-a702-23be57822449",
   "metadata": {
    "id": "49129920-1a41-4042-a702-23be57822449"
   },
   "source": [
    "### Extraires des informations de base\n",
    "\n",
    "Nous pouvons reprendre la fonction précédente et ajouter du code pour extraire et enregistrer les informations"
   ]
  },
  {
   "cell_type": "code",
   "execution_count": null,
   "id": "YXJs1rhtPODV",
   "metadata": {
    "colab": {
     "base_uri": "https://localhost:8080/",
     "height": 456
    },
    "id": "YXJs1rhtPODV",
    "outputId": "7f303000-7341-402b-fb42-0a4ec76d99f9"
   },
   "outputs": [],
   "source": [
    "plt.imshow(mes_images[0])\n",
    "plt.show()"
   ]
  },
  {
   "cell_type": "code",
   "execution_count": null,
   "id": "A-2sSQioPOL9",
   "metadata": {
    "colab": {
     "base_uri": "https://localhost:8080/"
    },
    "id": "A-2sSQioPOL9",
    "outputId": "8af86a05-8472-4651-a822-e3d48a2e0c97"
   },
   "outputs": [],
   "source": [
    "mes_images[0].shape"
   ]
  },
  {
   "cell_type": "code",
   "execution_count": null,
   "id": "4SUKlsn_POQ5",
   "metadata": {
    "colab": {
     "base_uri": "https://localhost:8080/"
    },
    "id": "4SUKlsn_POQ5",
    "outputId": "0c62a570-62aa-49de-b2da-e44b0a7f6b34"
   },
   "outputs": [],
   "source": [
    "mes_images[0].size"
   ]
  },
  {
   "cell_type": "code",
   "execution_count": null,
   "id": "cc41045b-8a29-4835-a46b-724c43cceba5",
   "metadata": {
    "colab": {
     "base_uri": "https://localhost:8080/"
    },
    "id": "cc41045b-8a29-4835-a46b-724c43cceba5",
    "outputId": "5d2414ce-ee8a-47a9-eae1-8cf48fa00fa7"
   },
   "outputs": [],
   "source": [
    "# Où récupérer les informations ?\n",
    "\n",
    "ext = [\".jpeg\", \".png\", \".jpg\"] # choisir les extensions qui définissent nos images\n",
    "dossier = os.listdir(path)\n",
    "for files in dossier:\n",
    "    if files.endswith(tuple(ext)):\n",
    "        image_dossier = os.path.join(path, files)\n",
    "        file, ext = os.path.splitext(files)\n",
    "        image = cv2.imread(image_dossier)\n",
    "        print(image.shape, file, ext)"
   ]
  },
  {
   "cell_type": "code",
   "execution_count": null,
   "id": "39e5a418-d420-472c-80ad-7fa5eb678587",
   "metadata": {
    "colab": {
     "base_uri": "https://localhost:8080/"
    },
    "id": "39e5a418-d420-472c-80ad-7fa5eb678587",
    "outputId": "6a98d2ef-0a06-40f4-fd6d-5804fd2cf0bf"
   },
   "outputs": [],
   "source": [
    "# Tout enregistrer dans un dictionnaire\n",
    "\n",
    "liste_dic = [] # comme lorsque nous voulions enregistrer nos images, il faut une liste pour enregistrer le dictionnaire\n",
    "ext = [\".jpeg\", \".png\", \".jpg\"] # choisir les extensions qui définissent nos images\n",
    "dossier = os.listdir(path)\n",
    "for files in dossier[:5]:\n",
    "    if files.endswith(tuple(ext)):\n",
    "        image_dossier = os.path.join(path, files)\n",
    "        file, ext = os.path.splitext(files)\n",
    "        image = cv2.imread(image_dossier)\n",
    "        dic = {\n",
    "            \"nom\": file,\n",
    "            \"ext\": ext,\n",
    "            \"hauteur\": image.shape[0],\n",
    "            \"largeur\": image.shape[1],\n",
    "            \"canaux\": image.shape[2],\n",
    "            \"taille\": image.size\n",
    "        }\n",
    "        liste_dic.append(dic)\n",
    "print(liste_dic)"
   ]
  },
  {
   "cell_type": "code",
   "execution_count": null,
   "id": "61a25c13-1ed3-4e24-8f7d-244c0b8fba65",
   "metadata": {
    "colab": {
     "base_uri": "https://localhost:8080/",
     "height": 192
    },
    "id": "61a25c13-1ed3-4e24-8f7d-244c0b8fba65",
    "outputId": "ba9972cb-5762-40f8-fb47-259c08aaf202"
   },
   "outputs": [],
   "source": [
    "# passer à un tableur\n",
    "\n",
    "df = pd.DataFrame.from_dict(liste_dic)\n",
    "df"
   ]
  },
  {
   "cell_type": "code",
   "execution_count": null,
   "id": "2dc9122a-f059-4606-9cae-f0614e3556af",
   "metadata": {
    "id": "2dc9122a-f059-4606-9cae-f0614e3556af"
   },
   "outputs": [],
   "source": [
    "df.to_csv('infos.csv')"
   ]
  },
  {
   "cell_type": "markdown",
   "id": "b1668e58-365f-42b9-bcb4-c238152f3a13",
   "metadata": {
    "id": "b1668e58-365f-42b9-bcb4-c238152f3a13"
   },
   "source": [
    "### Extraire des informations à l'aide d'un algorithme de détection d'objets\n",
    "\n",
    "Sur la base du cours précédent, nous savons maintenant comment appliquer un algorithme pour extraire des informations contenues dans l'image à l'aide d'algorithmes"
   ]
  },
  {
   "cell_type": "code",
   "execution_count": null,
   "id": "341e0c35-2231-4489-8a44-8be8d1889f19",
   "metadata": {
    "colab": {
     "base_uri": "https://localhost:8080/",
     "height": 456
    },
    "id": "341e0c35-2231-4489-8a44-8be8d1889f19",
    "outputId": "a93f43bc-a905-4286-92c0-36e388bfa8f7"
   },
   "outputs": [],
   "source": [
    "# https://huggingface.co/facebook/detr-resnet-50\n",
    "\n",
    "from PIL import Image, ImageDraw\n",
    "\n",
    "file = os.path.join(path, dossier_images[0])\n",
    "image = Image.open(file)\n",
    "plt.imshow(image)\n",
    "plt.show()"
   ]
  },
  {
   "cell_type": "code",
   "execution_count": null,
   "id": "14X43ySxPloD",
   "metadata": {
    "id": "14X43ySxPloD"
   },
   "outputs": [],
   "source": [
    "from transformers import DetrImageProcessor, DetrForObjectDetection\n",
    "import torch"
   ]
  },
  {
   "cell_type": "code",
   "execution_count": null,
   "id": "SQkuTCuKPldU",
   "metadata": {
    "colab": {
     "base_uri": "https://localhost:8080/",
     "height": 234,
     "referenced_widgets": [
      "d25871beea6d44b5bee66d7873bb6f32",
      "07d6b8c5dafe43699219cf051911915d",
      "f67bfe172e51477288fe46fd1e9af8c7",
      "3c1ed5b7510f4ecc8dbdf9975ce33aa0",
      "7abc85496997416cbe0e389b9c5807a7",
      "3901bdc9424f4519a3da63a3219d03f1",
      "35e83a60d23c4c53aa24e364af49a3d5",
      "6a402270d2fd4a65b7cc01ebb0a8d922",
      "1f578de3745f457ea41a7362e91e8a6e",
      "06613c1bd22447cda897b3be87fc6e89",
      "3ddf99d0d315418e9d02aee24153eb9c",
      "d59d7fa757554b70bde9260e033ae5d4",
      "2c0a879104804050a28e042ee53c4a40",
      "cd53722d3e80475d9d86c0fd70cab2f1",
      "259e6932e38f4b35bfb982c7369d2ff5",
      "0c00db313a1847b5a07533714488eed8",
      "bf256abefe74443d8001ec98d02fa3ff",
      "3cce277042ce4691996c5a07fcdc98c2",
      "d0cfc6b59f4b415389ffa026a1f33710",
      "9514a8addf0749c39204c4359654a4bc",
      "c176e95e09dd4bb2bcb4e66cfaa3c6e6",
      "a20223136a014719a2832eef2e9976bf",
      "25fb031183864a1087f6944b0f571b6e",
      "922aab7c6c764459a2a52461b168134c",
      "ac48a863c71642fdaa7e6db39c611558",
      "87fe6be30b304584b25701e3de629bbc",
      "b2f5fa275d274c3f8e430b27bbad53e9",
      "8a5c70e84bea4bc4b8e1675dc8f34bd2",
      "4e6af1e0b84140ca907fb1a3f568196f",
      "089ab8d891bf48b79d48927a3ef1e252",
      "5b21beb6989c42958e08f836e0f24102",
      "0e68b99f1f2144f1b905adec0eb77a49",
      "5ec3eec92f3f4ceea41d8b783399ac23"
     ]
    },
    "id": "SQkuTCuKPldU",
    "outputId": "dacb3ce0-2907-4787-ed8d-cb50ff463dbc"
   },
   "outputs": [],
   "source": [
    "processor = DetrImageProcessor.from_pretrained(\"facebook/detr-resnet-50\", revision=\"no_timm\")\n",
    "model = DetrForObjectDetection.from_pretrained(\"facebook/detr-resnet-50\", revision=\"no_timm\")"
   ]
  },
  {
   "cell_type": "code",
   "execution_count": null,
   "id": "VV8LbqlCPlVK",
   "metadata": {
    "id": "VV8LbqlCPlVK"
   },
   "outputs": [],
   "source": [
    "inputs = processor(images=image, return_tensors=\"pt\")\n",
    "outputs = model(**inputs)\n",
    "target_sizes = torch.tensor([image.size[::-1]])\n",
    "results = processor.post_process_object_detection(outputs, target_sizes=target_sizes, threshold=0.7)[0]\n"
   ]
  },
  {
   "cell_type": "code",
   "execution_count": null,
   "id": "2oGKOldTPlIB",
   "metadata": {
    "colab": {
     "base_uri": "https://localhost:8080/"
    },
    "id": "2oGKOldTPlIB",
    "outputId": "b7f30930-443d-4520-bcdb-a39dc4ce1fac"
   },
   "outputs": [],
   "source": [
    "for score, label, box in zip(results[\"scores\"], results[\"labels\"], results[\"boxes\"]):\n",
    "    box = [round(i, 2) for i in box.tolist()]\n",
    "    print(\n",
    "            f\"Detected {model.config.id2label[label.item()]} with confidence \"\n",
    "            f\"{round(score.item(), 3)} at location {box}\"\n",
    "    )"
   ]
  },
  {
   "cell_type": "code",
   "execution_count": null,
   "id": "AwIFJKUNR8uR",
   "metadata": {
    "id": "AwIFJKUNR8uR"
   },
   "outputs": [],
   "source": [
    "input_folder = path\n",
    "data = []\n",
    "\n",
    "processor = DetrImageProcessor.from_pretrained(\"facebook/detr-resnet-50\", revision=\"no_timm\")\n",
    "model = DetrForObjectDetection.from_pretrained(\"facebook/detr-resnet-50\", revision=\"no_timm\")\n",
    "\n",
    "for filename in os.listdir(input_folder):\n",
    "    if filename.lower().endswith((\".png\", \".jpg\", \".jpeg\")):\n",
    "        image_path = os.path.join(input_folder, filename)\n",
    "        image = Image.open(image_path).convert(\"RGB\")\n",
    "\n",
    "        inputs = processor(images=image, return_tensors=\"pt\")\n",
    "        with torch.no_grad():\n",
    "            outputs = model(**inputs)\n",
    "\n",
    "        target_sizes = torch.tensor([image.size[::-1]])\n",
    "        results = processor.post_process_object_detection(outputs, target_sizes=target_sizes, threshold=0.7)[0]\n",
    "\n",
    "        for score, label, box in zip(results[\"scores\"], results[\"labels\"], results[\"boxes\"]):\n",
    "            box = box.tolist()  # On convertit en liste Python normale\n",
    "            box = list(map(int, box))  # On convertit chaque coordonnée en int\n",
    "            data.append({\n",
    "                \"filename\": filename,\n",
    "                \"label\": model.config.id2label[label.item()],\n",
    "                \"score\": round(score.item(), 3),\n",
    "                \"box_xmin\": box[0],\n",
    "                \"box_ymin\": box[1],\n",
    "                \"box_xmax\": box[2],\n",
    "                \"box_ymax\": box[3]\n",
    "            })"
   ]
  },
  {
   "cell_type": "code",
   "execution_count": null,
   "id": "IbcbFYYASzX5",
   "metadata": {
    "colab": {
     "base_uri": "https://localhost:8080/"
    },
    "id": "IbcbFYYASzX5",
    "outputId": "c5d0d48b-bdae-46cc-8dca-611df4c3219f"
   },
   "outputs": [],
   "source": [
    "data"
   ]
  },
  {
   "cell_type": "code",
   "execution_count": null,
   "id": "hB8b0_gzS_NO",
   "metadata": {
    "colab": {
     "base_uri": "https://localhost:8080/",
     "height": 500
    },
    "id": "hB8b0_gzS_NO",
    "outputId": "97571311-7b9c-4606-dc98-0209f2a450e8"
   },
   "outputs": [],
   "source": [
    "df = pd.DataFrame(data)\n",
    "df"
   ]
  },
  {
   "cell_type": "code",
   "execution_count": null,
   "id": "ESXdIskcVNDH",
   "metadata": {
    "id": "ESXdIskcVNDH"
   },
   "outputs": [],
   "source": [
    "df.to_csv(\"detection_results.csv\")"
   ]
  },
  {
   "cell_type": "markdown",
   "id": "899eebd0-1af0-4eb6-80fe-31c3b262f071",
   "metadata": {
    "id": "899eebd0-1af0-4eb6-80fe-31c3b262f071"
   },
   "source": [
    "### Visualiser simplement ses données\n",
    "#### Vérifier l'extraction des informations\n",
    "\n",
    "À partir du dossier et du CSV créer, nous pouvons dans un premier temps vérifier et comptabiliser l'extraction des données."
   ]
  },
  {
   "cell_type": "code",
   "execution_count": null,
   "id": "7abd524d-8494-4ea9-8107-8709ae4daabe",
   "metadata": {
    "colab": {
     "base_uri": "https://localhost:8080/",
     "height": 500
    },
    "id": "7abd524d-8494-4ea9-8107-8709ae4daabe",
    "outputId": "89bff2d8-08ee-4a4c-adb0-b71fe9ad0ab3"
   },
   "outputs": [],
   "source": [
    "# importer un csv\n",
    "\n",
    "csv = 'detection_results.csv'\n",
    "df2 = pd.read_csv(csv, index_col=[0])\n",
    "df2"
   ]
  },
  {
   "cell_type": "code",
   "execution_count": null,
   "id": "c2cedeb0-7fc6-4af5-b13b-335b4f4eaccf",
   "metadata": {
    "colab": {
     "base_uri": "https://localhost:8080/",
     "height": 56
    },
    "id": "c2cedeb0-7fc6-4af5-b13b-335b4f4eaccf",
    "outputId": "2b91ccf1-55d7-4285-bb60-fe195d1b9ccf"
   },
   "outputs": [],
   "source": [
    "# choisir un dossier\n",
    "\n",
    "path"
   ]
  },
  {
   "cell_type": "code",
   "execution_count": null,
   "id": "d9O19QEsWW65",
   "metadata": {
    "colab": {
     "base_uri": "https://localhost:8080/"
    },
    "id": "d9O19QEsWW65",
    "outputId": "a7778b84-9e84-4cf8-bc60-c5f70f39a280"
   },
   "outputs": [],
   "source": [
    "os.path.isdir(path)"
   ]
  },
  {
   "cell_type": "code",
   "execution_count": null,
   "id": "4ab1d599-a587-4a66-b0fc-f19baf939460",
   "metadata": {
    "colab": {
     "base_uri": "https://localhost:8080/",
     "height": 318
    },
    "id": "4ab1d599-a587-4a66-b0fc-f19baf939460",
    "outputId": "d1ee9327-ec90-4e0f-951b-e6c914f4cf56"
   },
   "outputs": [],
   "source": [
    "# Choisir une ligne (par exemple l'index 0)\n",
    "row = df.iloc[0]\n",
    "row"
   ]
  },
  {
   "cell_type": "code",
   "execution_count": null,
   "id": "873422f0-bb21-406b-a590-458fc5ad147b",
   "metadata": {
    "colab": {
     "base_uri": "https://localhost:8080/",
     "height": 456
    },
    "id": "873422f0-bb21-406b-a590-458fc5ad147b",
    "outputId": "0b5cdc74-114f-4374-8b6f-08d5ca6fb967"
   },
   "outputs": [],
   "source": [
    "# Charger l'image\n",
    "image_path = os.path.join(path, row[\"filename\"])\n",
    "image = cv2.imread(image_path)\n",
    "image_rgb = cv2.cvtColor(image, cv2.COLOR_BGR2RGB)\n",
    "plt.imshow(image_rgb)\n",
    "plt.show()"
   ]
  },
  {
   "cell_type": "code",
   "execution_count": null,
   "id": "f59e2ffd-5a9a-4feb-9e71-0afd81a12adc",
   "metadata": {
    "colab": {
     "base_uri": "https://localhost:8080/",
     "height": 849
    },
    "id": "f59e2ffd-5a9a-4feb-9e71-0afd81a12adc",
    "outputId": "d037d1b1-53bd-47cf-9f03-d2a82dc67380"
   },
   "outputs": [],
   "source": [
    "# Récupérer les coordonnées de la box\n",
    "xmin, ymin, xmax, ymax = row[\"box_xmin\"], row[\"box_ymin\"], row[\"box_xmax\"], row[\"box_ymax\"]\n",
    "xmin, ymin, xmax, ymax = int(xmin), int(ymin), int(xmax), int(ymax)\n",
    "\n",
    "# Dessiner la bounding box sur l'image (directement sur image_rgb)\n",
    "cv2.rectangle(image_rgb, (xmin, ymin), (xmax, ymax), color=(255, 0, 0), thickness=2)\n",
    "\n",
    "# Mettre le texte (label + score)\n",
    "text = f\"{row['label']} ({row['score']})\"\n",
    "cv2.putText(image_rgb, text, (xmin, max(ymin - 10, 0)), cv2.FONT_HERSHEY_SIMPLEX, 0.6, (0, 255, 0), 2)\n",
    "\n",
    "# Afficher avec matplotlib\n",
    "plt.figure(figsize=(10, 10))\n",
    "plt.imshow(image_rgb)\n",
    "plt.axis('off')\n",
    "plt.title(f\"Detection: {text}\")\n",
    "plt.show()"
   ]
  },
  {
   "cell_type": "code",
   "execution_count": null,
   "id": "d83f03b2-2c14-4c51-8835-3add73aaf433",
   "metadata": {
    "colab": {
     "base_uri": "https://localhost:8080/",
     "height": 464
    },
    "id": "d83f03b2-2c14-4c51-8835-3add73aaf433",
    "outputId": "93284cde-c377-4d1c-c98d-882954aad839"
   },
   "outputs": [],
   "source": [
    "# Extraire la sous-image (crop de la bounding box)\n",
    "cropped = image[ymin:ymax, xmin:xmax]\n",
    "\n",
    "# Convertir pour matplotlib (BGR -> RGB)\n",
    "cropped_rgb = cv2.cvtColor(cropped, cv2.COLOR_BGR2RGB)\n",
    "\n",
    "# Afficher l'extraction\n",
    "plt.figure(figsize=(5, 5))\n",
    "plt.imshow(cropped_rgb)\n",
    "plt.axis('off')\n",
    "plt.title(f\"{row['label']} ({row['score']})\")\n",
    "plt.show()"
   ]
  },
  {
   "cell_type": "code",
   "execution_count": null,
   "id": "ebba9d44-0ab3-45d4-b08e-45793c9226c7",
   "metadata": {
    "colab": {
     "base_uri": "https://localhost:8080/"
    },
    "id": "ebba9d44-0ab3-45d4-b08e-45793c9226c7",
    "outputId": "73a6157a-b860-4c72-c178-e43b6f55b2a5"
   },
   "outputs": [],
   "source": [
    "# Générer le nouveau nom de fichier\n",
    "output_folder = \"/content/drive/MyDrive/cours/cours 2025/detections\"\n",
    "os.makedirs(output_folder, exist_ok=True)\n",
    "\n",
    "base_filename = os.path.splitext(row[\"filename\"])[0]\n",
    "label_clean = row[\"label\"].replace(\" \", \"_\")  # remplacer les espaces dans les labels\n",
    "new_filename = f\"{base_filename}_{label_clean}.jpg\"\n",
    "output_path = os.path.join(output_folder, new_filename)\n",
    "cv2.imwrite(output_path, cropped)\n",
    "\n",
    "print(new_filename, output_path)"
   ]
  },
  {
   "cell_type": "code",
   "execution_count": null,
   "id": "ssy-9HPvYu3p",
   "metadata": {
    "colab": {
     "base_uri": "https://localhost:8080/",
     "height": 1000
    },
    "id": "ssy-9HPvYu3p",
    "outputId": "07b82dbb-f52d-416f-ceb9-c1dc56bca0e1"
   },
   "outputs": [],
   "source": [
    "# découper les détection sur tout le dossier\n",
    "\n",
    "import pandas as pd\n",
    "import cv2\n",
    "import os\n",
    "import matplotlib.pyplot as plt\n",
    "\n",
    "# Chemins\n",
    "csv_path = \"detection_results.csv\"\n",
    "images_folder = path\n",
    "output_folder = \"/content/drive/MyDrive/cours/cours 2025/detections\"\n",
    "\n",
    "# Créer le dossier de sortie s'il n'existe pas\n",
    "os.makedirs(output_folder, exist_ok=True)\n",
    "\n",
    "# Charger la dataframe\n",
    "df = pd.read_csv(csv_path)\n",
    "\n",
    "# Boucler sur toutes les lignes du CSV\n",
    "for idx, row in df.iterrows():\n",
    "    # Charger l'image\n",
    "    image_path = os.path.join(images_folder, row[\"filename\"])\n",
    "    image = cv2.imread(image_path)\n",
    "\n",
    "    # Vérification : l'image est bien chargée\n",
    "    if image is None:\n",
    "        print(f\"⚠️ Image {image_path} introuvable. Ligne {idx}.\")\n",
    "        continue\n",
    "\n",
    "    # Récupérer les coordonnées de la box\n",
    "    xmin, ymin, xmax, ymax = row[\"box_xmin\"], row[\"box_ymin\"], row[\"box_xmax\"], row[\"box_ymax\"]\n",
    "    xmin, ymin, xmax, ymax = int(xmin), int(ymin), int(xmax), int(ymax)\n",
    "\n",
    "    # Sécurité sur les dimensions (parfois les box débordent un peu)\n",
    "    h, w, _ = image.shape\n",
    "    xmin, ymin = max(0, xmin), max(0, ymin)\n",
    "    xmax, ymax = min(w, xmax), min(h, ymax)\n",
    "\n",
    "    # Extraire la sous-image\n",
    "    cropped = image[ymin:ymax, xmin:xmax]\n",
    "\n",
    "    # Vérifier que le crop n'est pas vide\n",
    "    if cropped.size == 0:\n",
    "        print(f\"Box vide pour {row['filename']} ({row['label']}). Ligne {idx}.\")\n",
    "        continue\n",
    "\n",
    "    # Convertir pour matplotlib (BGR -> RGB)\n",
    "    cropped_rgb = cv2.cvtColor(cropped, cv2.COLOR_BGR2RGB)\n",
    "\n",
    "    # Afficher l'image extraite\n",
    "    plt.figure(figsize=(4, 4))\n",
    "    plt.imshow(cropped_rgb)\n",
    "    plt.axis('off')\n",
    "    plt.title(f\"{row['label']} ({row['score']})\")\n",
    "    plt.show()\n",
    "\n",
    "    # Nettoyer les labels pour le filename\n",
    "    base_filename = os.path.splitext(row[\"filename\"])[0]\n",
    "    label_clean = row[\"label\"].replace(\" \", \"_\").replace(\"/\", \"-\")\n",
    "    new_filename = f\"{base_filename}_{label_clean}.jpg\"\n",
    "    output_path = os.path.join(output_folder, new_filename)\n",
    "\n",
    "    # Sauvegarder l'image extraite\n",
    "    cv2.imwrite(output_path, cropped)\n",
    "    print(f\"Image sauvegardée : {output_path}\")\n"
   ]
  },
  {
   "cell_type": "markdown",
   "id": "c7960669-5421-4c49-9abc-6e3dc4505780",
   "metadata": {
    "id": "c7960669-5421-4c49-9abc-6e3dc4505780"
   },
   "source": [
    "#### Visualiser à partir d'un tableau de données"
   ]
  },
  {
   "cell_type": "code",
   "execution_count": null,
   "id": "dAYRZxtsagcR",
   "metadata": {
    "id": "dAYRZxtsagcR"
   },
   "outputs": [],
   "source": [
    "# Charger la dataframe\n",
    "csv_path = \"detection_results.csv\"\n",
    "df = pd.read_csv(csv_path)"
   ]
  },
  {
   "cell_type": "code",
   "execution_count": null,
   "id": "mlKwmrzIagXH",
   "metadata": {
    "colab": {
     "base_uri": "https://localhost:8080/",
     "height": 696
    },
    "id": "mlKwmrzIagXH",
    "outputId": "55e70aa6-b437-4b6a-9de4-c9aabdf83cbf"
   },
   "outputs": [],
   "source": [
    "# Calcul de la surface de chaque box\n",
    "plt.figure(figsize=(8, 8))\n",
    "df[\"label\"].value_counts().plot.pie(autopct=\"%1.1f%%\", startangle=140)\n",
    "plt.title(\"Répartition des objets détectés\")\n",
    "plt.ylabel(\"\")\n",
    "plt.show()"
   ]
  },
  {
   "cell_type": "code",
   "execution_count": null,
   "id": "Rgn4xTnobq4o",
   "metadata": {
    "colab": {
     "base_uri": "https://localhost:8080/",
     "height": 576
    },
    "id": "Rgn4xTnobq4o",
    "outputId": "ee58c3ad-4ed6-4432-f977-e8b7ec2d8f0e"
   },
   "outputs": [],
   "source": [
    "import seaborn as sns\n",
    "\n",
    "plt.figure(figsize=(12, 6))\n",
    "sns.boxplot(x=\"label\", y=\"score\", data=df)\n",
    "plt.xticks(rotation=90)\n",
    "plt.title(\"Score de détection par objet détecté\")\n",
    "plt.xlabel(\"Objet détecté\")\n",
    "plt.ylabel(\"Score de détection\")\n",
    "plt.tight_layout()\n",
    "plt.show()"
   ]
  },
  {
   "cell_type": "code",
   "execution_count": null,
   "id": "W9s4Ev2zcQkJ",
   "metadata": {
    "id": "W9s4Ev2zcQkJ"
   },
   "outputs": [],
   "source": []
  }
 ],
 "metadata": {
  "colab": {
   "provenance": []
  },
  "kernelspec": {
   "display_name": "Python 3 (ipykernel)",
   "language": "python",
   "name": "python3"
  },
  "language_info": {
   "codemirror_mode": {
    "name": "ipython",
    "version": 3
   },
   "file_extension": ".py",
   "mimetype": "text/x-python",
   "name": "python",
   "nbconvert_exporter": "python",
   "pygments_lexer": "ipython3",
   "version": "3.9.19"
  },
  "widgets": {
   "application/vnd.jupyter.widget-state+json": {
    "06613c1bd22447cda897b3be87fc6e89": {
     "model_module": "@jupyter-widgets/base",
     "model_module_version": "1.2.0",
     "model_name": "LayoutModel",
     "state": {
      "_model_module": "@jupyter-widgets/base",
      "_model_module_version": "1.2.0",
      "_model_name": "LayoutModel",
      "_view_count": null,
      "_view_module": "@jupyter-widgets/base",
      "_view_module_version": "1.2.0",
      "_view_name": "LayoutView",
      "align_content": null,
      "align_items": null,
      "align_self": null,
      "border": null,
      "bottom": null,
      "display": null,
      "flex": null,
      "flex_flow": null,
      "grid_area": null,
      "grid_auto_columns": null,
      "grid_auto_flow": null,
      "grid_auto_rows": null,
      "grid_column": null,
      "grid_gap": null,
      "grid_row": null,
      "grid_template_areas": null,
      "grid_template_columns": null,
      "grid_template_rows": null,
      "height": null,
      "justify_content": null,
      "justify_items": null,
      "left": null,
      "margin": null,
      "max_height": null,
      "max_width": null,
      "min_height": null,
      "min_width": null,
      "object_fit": null,
      "object_position": null,
      "order": null,
      "overflow": null,
      "overflow_x": null,
      "overflow_y": null,
      "padding": null,
      "right": null,
      "top": null,
      "visibility": null,
      "width": null
     }
    },
    "07d6b8c5dafe43699219cf051911915d": {
     "model_module": "@jupyter-widgets/controls",
     "model_module_version": "1.5.0",
     "model_name": "HTMLModel",
     "state": {
      "_dom_classes": [],
      "_model_module": "@jupyter-widgets/controls",
      "_model_module_version": "1.5.0",
      "_model_name": "HTMLModel",
      "_view_count": null,
      "_view_module": "@jupyter-widgets/controls",
      "_view_module_version": "1.5.0",
      "_view_name": "HTMLView",
      "description": "",
      "description_tooltip": null,
      "layout": "IPY_MODEL_3901bdc9424f4519a3da63a3219d03f1",
      "placeholder": "​",
      "style": "IPY_MODEL_35e83a60d23c4c53aa24e364af49a3d5",
      "value": "preprocessor_config.json: 100%"
     }
    },
    "089ab8d891bf48b79d48927a3ef1e252": {
     "model_module": "@jupyter-widgets/base",
     "model_module_version": "1.2.0",
     "model_name": "LayoutModel",
     "state": {
      "_model_module": "@jupyter-widgets/base",
      "_model_module_version": "1.2.0",
      "_model_name": "LayoutModel",
      "_view_count": null,
      "_view_module": "@jupyter-widgets/base",
      "_view_module_version": "1.2.0",
      "_view_name": "LayoutView",
      "align_content": null,
      "align_items": null,
      "align_self": null,
      "border": null,
      "bottom": null,
      "display": null,
      "flex": null,
      "flex_flow": null,
      "grid_area": null,
      "grid_auto_columns": null,
      "grid_auto_flow": null,
      "grid_auto_rows": null,
      "grid_column": null,
      "grid_gap": null,
      "grid_row": null,
      "grid_template_areas": null,
      "grid_template_columns": null,
      "grid_template_rows": null,
      "height": null,
      "justify_content": null,
      "justify_items": null,
      "left": null,
      "margin": null,
      "max_height": null,
      "max_width": null,
      "min_height": null,
      "min_width": null,
      "object_fit": null,
      "object_position": null,
      "order": null,
      "overflow": null,
      "overflow_x": null,
      "overflow_y": null,
      "padding": null,
      "right": null,
      "top": null,
      "visibility": null,
      "width": null
     }
    },
    "0c00db313a1847b5a07533714488eed8": {
     "model_module": "@jupyter-widgets/base",
     "model_module_version": "1.2.0",
     "model_name": "LayoutModel",
     "state": {
      "_model_module": "@jupyter-widgets/base",
      "_model_module_version": "1.2.0",
      "_model_name": "LayoutModel",
      "_view_count": null,
      "_view_module": "@jupyter-widgets/base",
      "_view_module_version": "1.2.0",
      "_view_name": "LayoutView",
      "align_content": null,
      "align_items": null,
      "align_self": null,
      "border": null,
      "bottom": null,
      "display": null,
      "flex": null,
      "flex_flow": null,
      "grid_area": null,
      "grid_auto_columns": null,
      "grid_auto_flow": null,
      "grid_auto_rows": null,
      "grid_column": null,
      "grid_gap": null,
      "grid_row": null,
      "grid_template_areas": null,
      "grid_template_columns": null,
      "grid_template_rows": null,
      "height": null,
      "justify_content": null,
      "justify_items": null,
      "left": null,
      "margin": null,
      "max_height": null,
      "max_width": null,
      "min_height": null,
      "min_width": null,
      "object_fit": null,
      "object_position": null,
      "order": null,
      "overflow": null,
      "overflow_x": null,
      "overflow_y": null,
      "padding": null,
      "right": null,
      "top": null,
      "visibility": null,
      "width": null
     }
    },
    "0e68b99f1f2144f1b905adec0eb77a49": {
     "model_module": "@jupyter-widgets/base",
     "model_module_version": "1.2.0",
     "model_name": "LayoutModel",
     "state": {
      "_model_module": "@jupyter-widgets/base",
      "_model_module_version": "1.2.0",
      "_model_name": "LayoutModel",
      "_view_count": null,
      "_view_module": "@jupyter-widgets/base",
      "_view_module_version": "1.2.0",
      "_view_name": "LayoutView",
      "align_content": null,
      "align_items": null,
      "align_self": null,
      "border": null,
      "bottom": null,
      "display": null,
      "flex": null,
      "flex_flow": null,
      "grid_area": null,
      "grid_auto_columns": null,
      "grid_auto_flow": null,
      "grid_auto_rows": null,
      "grid_column": null,
      "grid_gap": null,
      "grid_row": null,
      "grid_template_areas": null,
      "grid_template_columns": null,
      "grid_template_rows": null,
      "height": null,
      "justify_content": null,
      "justify_items": null,
      "left": null,
      "margin": null,
      "max_height": null,
      "max_width": null,
      "min_height": null,
      "min_width": null,
      "object_fit": null,
      "object_position": null,
      "order": null,
      "overflow": null,
      "overflow_x": null,
      "overflow_y": null,
      "padding": null,
      "right": null,
      "top": null,
      "visibility": null,
      "width": null
     }
    },
    "1f578de3745f457ea41a7362e91e8a6e": {
     "model_module": "@jupyter-widgets/controls",
     "model_module_version": "1.5.0",
     "model_name": "ProgressStyleModel",
     "state": {
      "_model_module": "@jupyter-widgets/controls",
      "_model_module_version": "1.5.0",
      "_model_name": "ProgressStyleModel",
      "_view_count": null,
      "_view_module": "@jupyter-widgets/base",
      "_view_module_version": "1.2.0",
      "_view_name": "StyleView",
      "bar_color": null,
      "description_width": ""
     }
    },
    "259e6932e38f4b35bfb982c7369d2ff5": {
     "model_module": "@jupyter-widgets/controls",
     "model_module_version": "1.5.0",
     "model_name": "HTMLModel",
     "state": {
      "_dom_classes": [],
      "_model_module": "@jupyter-widgets/controls",
      "_model_module_version": "1.5.0",
      "_model_name": "HTMLModel",
      "_view_count": null,
      "_view_module": "@jupyter-widgets/controls",
      "_view_module_version": "1.5.0",
      "_view_name": "HTMLView",
      "description": "",
      "description_tooltip": null,
      "layout": "IPY_MODEL_c176e95e09dd4bb2bcb4e66cfaa3c6e6",
      "placeholder": "​",
      "style": "IPY_MODEL_a20223136a014719a2832eef2e9976bf",
      "value": " 6.60k/6.60k [00:00&lt;00:00, 360kB/s]"
     }
    },
    "25fb031183864a1087f6944b0f571b6e": {
     "model_module": "@jupyter-widgets/controls",
     "model_module_version": "1.5.0",
     "model_name": "HBoxModel",
     "state": {
      "_dom_classes": [],
      "_model_module": "@jupyter-widgets/controls",
      "_model_module_version": "1.5.0",
      "_model_name": "HBoxModel",
      "_view_count": null,
      "_view_module": "@jupyter-widgets/controls",
      "_view_module_version": "1.5.0",
      "_view_name": "HBoxView",
      "box_style": "",
      "children": [
       "IPY_MODEL_922aab7c6c764459a2a52461b168134c",
       "IPY_MODEL_ac48a863c71642fdaa7e6db39c611558",
       "IPY_MODEL_87fe6be30b304584b25701e3de629bbc"
      ],
      "layout": "IPY_MODEL_b2f5fa275d274c3f8e430b27bbad53e9"
     }
    },
    "2c0a879104804050a28e042ee53c4a40": {
     "model_module": "@jupyter-widgets/controls",
     "model_module_version": "1.5.0",
     "model_name": "HTMLModel",
     "state": {
      "_dom_classes": [],
      "_model_module": "@jupyter-widgets/controls",
      "_model_module_version": "1.5.0",
      "_model_name": "HTMLModel",
      "_view_count": null,
      "_view_module": "@jupyter-widgets/controls",
      "_view_module_version": "1.5.0",
      "_view_name": "HTMLView",
      "description": "",
      "description_tooltip": null,
      "layout": "IPY_MODEL_bf256abefe74443d8001ec98d02fa3ff",
      "placeholder": "​",
      "style": "IPY_MODEL_3cce277042ce4691996c5a07fcdc98c2",
      "value": "config.json: 100%"
     }
    },
    "35e83a60d23c4c53aa24e364af49a3d5": {
     "model_module": "@jupyter-widgets/controls",
     "model_module_version": "1.5.0",
     "model_name": "DescriptionStyleModel",
     "state": {
      "_model_module": "@jupyter-widgets/controls",
      "_model_module_version": "1.5.0",
      "_model_name": "DescriptionStyleModel",
      "_view_count": null,
      "_view_module": "@jupyter-widgets/base",
      "_view_module_version": "1.2.0",
      "_view_name": "StyleView",
      "description_width": ""
     }
    },
    "3901bdc9424f4519a3da63a3219d03f1": {
     "model_module": "@jupyter-widgets/base",
     "model_module_version": "1.2.0",
     "model_name": "LayoutModel",
     "state": {
      "_model_module": "@jupyter-widgets/base",
      "_model_module_version": "1.2.0",
      "_model_name": "LayoutModel",
      "_view_count": null,
      "_view_module": "@jupyter-widgets/base",
      "_view_module_version": "1.2.0",
      "_view_name": "LayoutView",
      "align_content": null,
      "align_items": null,
      "align_self": null,
      "border": null,
      "bottom": null,
      "display": null,
      "flex": null,
      "flex_flow": null,
      "grid_area": null,
      "grid_auto_columns": null,
      "grid_auto_flow": null,
      "grid_auto_rows": null,
      "grid_column": null,
      "grid_gap": null,
      "grid_row": null,
      "grid_template_areas": null,
      "grid_template_columns": null,
      "grid_template_rows": null,
      "height": null,
      "justify_content": null,
      "justify_items": null,
      "left": null,
      "margin": null,
      "max_height": null,
      "max_width": null,
      "min_height": null,
      "min_width": null,
      "object_fit": null,
      "object_position": null,
      "order": null,
      "overflow": null,
      "overflow_x": null,
      "overflow_y": null,
      "padding": null,
      "right": null,
      "top": null,
      "visibility": null,
      "width": null
     }
    },
    "3c1ed5b7510f4ecc8dbdf9975ce33aa0": {
     "model_module": "@jupyter-widgets/controls",
     "model_module_version": "1.5.0",
     "model_name": "HTMLModel",
     "state": {
      "_dom_classes": [],
      "_model_module": "@jupyter-widgets/controls",
      "_model_module_version": "1.5.0",
      "_model_name": "HTMLModel",
      "_view_count": null,
      "_view_module": "@jupyter-widgets/controls",
      "_view_module_version": "1.5.0",
      "_view_name": "HTMLView",
      "description": "",
      "description_tooltip": null,
      "layout": "IPY_MODEL_06613c1bd22447cda897b3be87fc6e89",
      "placeholder": "​",
      "style": "IPY_MODEL_3ddf99d0d315418e9d02aee24153eb9c",
      "value": " 401/401 [00:00&lt;00:00, 25.5kB/s]"
     }
    },
    "3cce277042ce4691996c5a07fcdc98c2": {
     "model_module": "@jupyter-widgets/controls",
     "model_module_version": "1.5.0",
     "model_name": "DescriptionStyleModel",
     "state": {
      "_model_module": "@jupyter-widgets/controls",
      "_model_module_version": "1.5.0",
      "_model_name": "DescriptionStyleModel",
      "_view_count": null,
      "_view_module": "@jupyter-widgets/base",
      "_view_module_version": "1.2.0",
      "_view_name": "StyleView",
      "description_width": ""
     }
    },
    "3ddf99d0d315418e9d02aee24153eb9c": {
     "model_module": "@jupyter-widgets/controls",
     "model_module_version": "1.5.0",
     "model_name": "DescriptionStyleModel",
     "state": {
      "_model_module": "@jupyter-widgets/controls",
      "_model_module_version": "1.5.0",
      "_model_name": "DescriptionStyleModel",
      "_view_count": null,
      "_view_module": "@jupyter-widgets/base",
      "_view_module_version": "1.2.0",
      "_view_name": "StyleView",
      "description_width": ""
     }
    },
    "4e6af1e0b84140ca907fb1a3f568196f": {
     "model_module": "@jupyter-widgets/controls",
     "model_module_version": "1.5.0",
     "model_name": "DescriptionStyleModel",
     "state": {
      "_model_module": "@jupyter-widgets/controls",
      "_model_module_version": "1.5.0",
      "_model_name": "DescriptionStyleModel",
      "_view_count": null,
      "_view_module": "@jupyter-widgets/base",
      "_view_module_version": "1.2.0",
      "_view_name": "StyleView",
      "description_width": ""
     }
    },
    "5b21beb6989c42958e08f836e0f24102": {
     "model_module": "@jupyter-widgets/controls",
     "model_module_version": "1.5.0",
     "model_name": "ProgressStyleModel",
     "state": {
      "_model_module": "@jupyter-widgets/controls",
      "_model_module_version": "1.5.0",
      "_model_name": "ProgressStyleModel",
      "_view_count": null,
      "_view_module": "@jupyter-widgets/base",
      "_view_module_version": "1.2.0",
      "_view_name": "StyleView",
      "bar_color": null,
      "description_width": ""
     }
    },
    "5ec3eec92f3f4ceea41d8b783399ac23": {
     "model_module": "@jupyter-widgets/controls",
     "model_module_version": "1.5.0",
     "model_name": "DescriptionStyleModel",
     "state": {
      "_model_module": "@jupyter-widgets/controls",
      "_model_module_version": "1.5.0",
      "_model_name": "DescriptionStyleModel",
      "_view_count": null,
      "_view_module": "@jupyter-widgets/base",
      "_view_module_version": "1.2.0",
      "_view_name": "StyleView",
      "description_width": ""
     }
    },
    "6a402270d2fd4a65b7cc01ebb0a8d922": {
     "model_module": "@jupyter-widgets/base",
     "model_module_version": "1.2.0",
     "model_name": "LayoutModel",
     "state": {
      "_model_module": "@jupyter-widgets/base",
      "_model_module_version": "1.2.0",
      "_model_name": "LayoutModel",
      "_view_count": null,
      "_view_module": "@jupyter-widgets/base",
      "_view_module_version": "1.2.0",
      "_view_name": "LayoutView",
      "align_content": null,
      "align_items": null,
      "align_self": null,
      "border": null,
      "bottom": null,
      "display": null,
      "flex": null,
      "flex_flow": null,
      "grid_area": null,
      "grid_auto_columns": null,
      "grid_auto_flow": null,
      "grid_auto_rows": null,
      "grid_column": null,
      "grid_gap": null,
      "grid_row": null,
      "grid_template_areas": null,
      "grid_template_columns": null,
      "grid_template_rows": null,
      "height": null,
      "justify_content": null,
      "justify_items": null,
      "left": null,
      "margin": null,
      "max_height": null,
      "max_width": null,
      "min_height": null,
      "min_width": null,
      "object_fit": null,
      "object_position": null,
      "order": null,
      "overflow": null,
      "overflow_x": null,
      "overflow_y": null,
      "padding": null,
      "right": null,
      "top": null,
      "visibility": null,
      "width": null
     }
    },
    "7abc85496997416cbe0e389b9c5807a7": {
     "model_module": "@jupyter-widgets/base",
     "model_module_version": "1.2.0",
     "model_name": "LayoutModel",
     "state": {
      "_model_module": "@jupyter-widgets/base",
      "_model_module_version": "1.2.0",
      "_model_name": "LayoutModel",
      "_view_count": null,
      "_view_module": "@jupyter-widgets/base",
      "_view_module_version": "1.2.0",
      "_view_name": "LayoutView",
      "align_content": null,
      "align_items": null,
      "align_self": null,
      "border": null,
      "bottom": null,
      "display": null,
      "flex": null,
      "flex_flow": null,
      "grid_area": null,
      "grid_auto_columns": null,
      "grid_auto_flow": null,
      "grid_auto_rows": null,
      "grid_column": null,
      "grid_gap": null,
      "grid_row": null,
      "grid_template_areas": null,
      "grid_template_columns": null,
      "grid_template_rows": null,
      "height": null,
      "justify_content": null,
      "justify_items": null,
      "left": null,
      "margin": null,
      "max_height": null,
      "max_width": null,
      "min_height": null,
      "min_width": null,
      "object_fit": null,
      "object_position": null,
      "order": null,
      "overflow": null,
      "overflow_x": null,
      "overflow_y": null,
      "padding": null,
      "right": null,
      "top": null,
      "visibility": null,
      "width": null
     }
    },
    "87fe6be30b304584b25701e3de629bbc": {
     "model_module": "@jupyter-widgets/controls",
     "model_module_version": "1.5.0",
     "model_name": "HTMLModel",
     "state": {
      "_dom_classes": [],
      "_model_module": "@jupyter-widgets/controls",
      "_model_module_version": "1.5.0",
      "_model_name": "HTMLModel",
      "_view_count": null,
      "_view_module": "@jupyter-widgets/controls",
      "_view_module_version": "1.5.0",
      "_view_name": "HTMLView",
      "description": "",
      "description_tooltip": null,
      "layout": "IPY_MODEL_0e68b99f1f2144f1b905adec0eb77a49",
      "placeholder": "​",
      "style": "IPY_MODEL_5ec3eec92f3f4ceea41d8b783399ac23",
      "value": " 167M/167M [00:01&lt;00:00, 179MB/s]"
     }
    },
    "8a5c70e84bea4bc4b8e1675dc8f34bd2": {
     "model_module": "@jupyter-widgets/base",
     "model_module_version": "1.2.0",
     "model_name": "LayoutModel",
     "state": {
      "_model_module": "@jupyter-widgets/base",
      "_model_module_version": "1.2.0",
      "_model_name": "LayoutModel",
      "_view_count": null,
      "_view_module": "@jupyter-widgets/base",
      "_view_module_version": "1.2.0",
      "_view_name": "LayoutView",
      "align_content": null,
      "align_items": null,
      "align_self": null,
      "border": null,
      "bottom": null,
      "display": null,
      "flex": null,
      "flex_flow": null,
      "grid_area": null,
      "grid_auto_columns": null,
      "grid_auto_flow": null,
      "grid_auto_rows": null,
      "grid_column": null,
      "grid_gap": null,
      "grid_row": null,
      "grid_template_areas": null,
      "grid_template_columns": null,
      "grid_template_rows": null,
      "height": null,
      "justify_content": null,
      "justify_items": null,
      "left": null,
      "margin": null,
      "max_height": null,
      "max_width": null,
      "min_height": null,
      "min_width": null,
      "object_fit": null,
      "object_position": null,
      "order": null,
      "overflow": null,
      "overflow_x": null,
      "overflow_y": null,
      "padding": null,
      "right": null,
      "top": null,
      "visibility": null,
      "width": null
     }
    },
    "922aab7c6c764459a2a52461b168134c": {
     "model_module": "@jupyter-widgets/controls",
     "model_module_version": "1.5.0",
     "model_name": "HTMLModel",
     "state": {
      "_dom_classes": [],
      "_model_module": "@jupyter-widgets/controls",
      "_model_module_version": "1.5.0",
      "_model_name": "HTMLModel",
      "_view_count": null,
      "_view_module": "@jupyter-widgets/controls",
      "_view_module_version": "1.5.0",
      "_view_name": "HTMLView",
      "description": "",
      "description_tooltip": null,
      "layout": "IPY_MODEL_8a5c70e84bea4bc4b8e1675dc8f34bd2",
      "placeholder": "​",
      "style": "IPY_MODEL_4e6af1e0b84140ca907fb1a3f568196f",
      "value": "pytorch_model.bin: 100%"
     }
    },
    "9514a8addf0749c39204c4359654a4bc": {
     "model_module": "@jupyter-widgets/controls",
     "model_module_version": "1.5.0",
     "model_name": "ProgressStyleModel",
     "state": {
      "_model_module": "@jupyter-widgets/controls",
      "_model_module_version": "1.5.0",
      "_model_name": "ProgressStyleModel",
      "_view_count": null,
      "_view_module": "@jupyter-widgets/base",
      "_view_module_version": "1.2.0",
      "_view_name": "StyleView",
      "bar_color": null,
      "description_width": ""
     }
    },
    "a20223136a014719a2832eef2e9976bf": {
     "model_module": "@jupyter-widgets/controls",
     "model_module_version": "1.5.0",
     "model_name": "DescriptionStyleModel",
     "state": {
      "_model_module": "@jupyter-widgets/controls",
      "_model_module_version": "1.5.0",
      "_model_name": "DescriptionStyleModel",
      "_view_count": null,
      "_view_module": "@jupyter-widgets/base",
      "_view_module_version": "1.2.0",
      "_view_name": "StyleView",
      "description_width": ""
     }
    },
    "ac48a863c71642fdaa7e6db39c611558": {
     "model_module": "@jupyter-widgets/controls",
     "model_module_version": "1.5.0",
     "model_name": "FloatProgressModel",
     "state": {
      "_dom_classes": [],
      "_model_module": "@jupyter-widgets/controls",
      "_model_module_version": "1.5.0",
      "_model_name": "FloatProgressModel",
      "_view_count": null,
      "_view_module": "@jupyter-widgets/controls",
      "_view_module_version": "1.5.0",
      "_view_name": "ProgressView",
      "bar_style": "success",
      "description": "",
      "description_tooltip": null,
      "layout": "IPY_MODEL_089ab8d891bf48b79d48927a3ef1e252",
      "max": 166708629,
      "min": 0,
      "orientation": "horizontal",
      "style": "IPY_MODEL_5b21beb6989c42958e08f836e0f24102",
      "value": 166708629
     }
    },
    "b2f5fa275d274c3f8e430b27bbad53e9": {
     "model_module": "@jupyter-widgets/base",
     "model_module_version": "1.2.0",
     "model_name": "LayoutModel",
     "state": {
      "_model_module": "@jupyter-widgets/base",
      "_model_module_version": "1.2.0",
      "_model_name": "LayoutModel",
      "_view_count": null,
      "_view_module": "@jupyter-widgets/base",
      "_view_module_version": "1.2.0",
      "_view_name": "LayoutView",
      "align_content": null,
      "align_items": null,
      "align_self": null,
      "border": null,
      "bottom": null,
      "display": null,
      "flex": null,
      "flex_flow": null,
      "grid_area": null,
      "grid_auto_columns": null,
      "grid_auto_flow": null,
      "grid_auto_rows": null,
      "grid_column": null,
      "grid_gap": null,
      "grid_row": null,
      "grid_template_areas": null,
      "grid_template_columns": null,
      "grid_template_rows": null,
      "height": null,
      "justify_content": null,
      "justify_items": null,
      "left": null,
      "margin": null,
      "max_height": null,
      "max_width": null,
      "min_height": null,
      "min_width": null,
      "object_fit": null,
      "object_position": null,
      "order": null,
      "overflow": null,
      "overflow_x": null,
      "overflow_y": null,
      "padding": null,
      "right": null,
      "top": null,
      "visibility": null,
      "width": null
     }
    },
    "bf256abefe74443d8001ec98d02fa3ff": {
     "model_module": "@jupyter-widgets/base",
     "model_module_version": "1.2.0",
     "model_name": "LayoutModel",
     "state": {
      "_model_module": "@jupyter-widgets/base",
      "_model_module_version": "1.2.0",
      "_model_name": "LayoutModel",
      "_view_count": null,
      "_view_module": "@jupyter-widgets/base",
      "_view_module_version": "1.2.0",
      "_view_name": "LayoutView",
      "align_content": null,
      "align_items": null,
      "align_self": null,
      "border": null,
      "bottom": null,
      "display": null,
      "flex": null,
      "flex_flow": null,
      "grid_area": null,
      "grid_auto_columns": null,
      "grid_auto_flow": null,
      "grid_auto_rows": null,
      "grid_column": null,
      "grid_gap": null,
      "grid_row": null,
      "grid_template_areas": null,
      "grid_template_columns": null,
      "grid_template_rows": null,
      "height": null,
      "justify_content": null,
      "justify_items": null,
      "left": null,
      "margin": null,
      "max_height": null,
      "max_width": null,
      "min_height": null,
      "min_width": null,
      "object_fit": null,
      "object_position": null,
      "order": null,
      "overflow": null,
      "overflow_x": null,
      "overflow_y": null,
      "padding": null,
      "right": null,
      "top": null,
      "visibility": null,
      "width": null
     }
    },
    "c176e95e09dd4bb2bcb4e66cfaa3c6e6": {
     "model_module": "@jupyter-widgets/base",
     "model_module_version": "1.2.0",
     "model_name": "LayoutModel",
     "state": {
      "_model_module": "@jupyter-widgets/base",
      "_model_module_version": "1.2.0",
      "_model_name": "LayoutModel",
      "_view_count": null,
      "_view_module": "@jupyter-widgets/base",
      "_view_module_version": "1.2.0",
      "_view_name": "LayoutView",
      "align_content": null,
      "align_items": null,
      "align_self": null,
      "border": null,
      "bottom": null,
      "display": null,
      "flex": null,
      "flex_flow": null,
      "grid_area": null,
      "grid_auto_columns": null,
      "grid_auto_flow": null,
      "grid_auto_rows": null,
      "grid_column": null,
      "grid_gap": null,
      "grid_row": null,
      "grid_template_areas": null,
      "grid_template_columns": null,
      "grid_template_rows": null,
      "height": null,
      "justify_content": null,
      "justify_items": null,
      "left": null,
      "margin": null,
      "max_height": null,
      "max_width": null,
      "min_height": null,
      "min_width": null,
      "object_fit": null,
      "object_position": null,
      "order": null,
      "overflow": null,
      "overflow_x": null,
      "overflow_y": null,
      "padding": null,
      "right": null,
      "top": null,
      "visibility": null,
      "width": null
     }
    },
    "cd53722d3e80475d9d86c0fd70cab2f1": {
     "model_module": "@jupyter-widgets/controls",
     "model_module_version": "1.5.0",
     "model_name": "FloatProgressModel",
     "state": {
      "_dom_classes": [],
      "_model_module": "@jupyter-widgets/controls",
      "_model_module_version": "1.5.0",
      "_model_name": "FloatProgressModel",
      "_view_count": null,
      "_view_module": "@jupyter-widgets/controls",
      "_view_module_version": "1.5.0",
      "_view_name": "ProgressView",
      "bar_style": "success",
      "description": "",
      "description_tooltip": null,
      "layout": "IPY_MODEL_d0cfc6b59f4b415389ffa026a1f33710",
      "max": 6602,
      "min": 0,
      "orientation": "horizontal",
      "style": "IPY_MODEL_9514a8addf0749c39204c4359654a4bc",
      "value": 6602
     }
    },
    "d0cfc6b59f4b415389ffa026a1f33710": {
     "model_module": "@jupyter-widgets/base",
     "model_module_version": "1.2.0",
     "model_name": "LayoutModel",
     "state": {
      "_model_module": "@jupyter-widgets/base",
      "_model_module_version": "1.2.0",
      "_model_name": "LayoutModel",
      "_view_count": null,
      "_view_module": "@jupyter-widgets/base",
      "_view_module_version": "1.2.0",
      "_view_name": "LayoutView",
      "align_content": null,
      "align_items": null,
      "align_self": null,
      "border": null,
      "bottom": null,
      "display": null,
      "flex": null,
      "flex_flow": null,
      "grid_area": null,
      "grid_auto_columns": null,
      "grid_auto_flow": null,
      "grid_auto_rows": null,
      "grid_column": null,
      "grid_gap": null,
      "grid_row": null,
      "grid_template_areas": null,
      "grid_template_columns": null,
      "grid_template_rows": null,
      "height": null,
      "justify_content": null,
      "justify_items": null,
      "left": null,
      "margin": null,
      "max_height": null,
      "max_width": null,
      "min_height": null,
      "min_width": null,
      "object_fit": null,
      "object_position": null,
      "order": null,
      "overflow": null,
      "overflow_x": null,
      "overflow_y": null,
      "padding": null,
      "right": null,
      "top": null,
      "visibility": null,
      "width": null
     }
    },
    "d25871beea6d44b5bee66d7873bb6f32": {
     "model_module": "@jupyter-widgets/controls",
     "model_module_version": "1.5.0",
     "model_name": "HBoxModel",
     "state": {
      "_dom_classes": [],
      "_model_module": "@jupyter-widgets/controls",
      "_model_module_version": "1.5.0",
      "_model_name": "HBoxModel",
      "_view_count": null,
      "_view_module": "@jupyter-widgets/controls",
      "_view_module_version": "1.5.0",
      "_view_name": "HBoxView",
      "box_style": "",
      "children": [
       "IPY_MODEL_07d6b8c5dafe43699219cf051911915d",
       "IPY_MODEL_f67bfe172e51477288fe46fd1e9af8c7",
       "IPY_MODEL_3c1ed5b7510f4ecc8dbdf9975ce33aa0"
      ],
      "layout": "IPY_MODEL_7abc85496997416cbe0e389b9c5807a7"
     }
    },
    "d59d7fa757554b70bde9260e033ae5d4": {
     "model_module": "@jupyter-widgets/controls",
     "model_module_version": "1.5.0",
     "model_name": "HBoxModel",
     "state": {
      "_dom_classes": [],
      "_model_module": "@jupyter-widgets/controls",
      "_model_module_version": "1.5.0",
      "_model_name": "HBoxModel",
      "_view_count": null,
      "_view_module": "@jupyter-widgets/controls",
      "_view_module_version": "1.5.0",
      "_view_name": "HBoxView",
      "box_style": "",
      "children": [
       "IPY_MODEL_2c0a879104804050a28e042ee53c4a40",
       "IPY_MODEL_cd53722d3e80475d9d86c0fd70cab2f1",
       "IPY_MODEL_259e6932e38f4b35bfb982c7369d2ff5"
      ],
      "layout": "IPY_MODEL_0c00db313a1847b5a07533714488eed8"
     }
    },
    "f67bfe172e51477288fe46fd1e9af8c7": {
     "model_module": "@jupyter-widgets/controls",
     "model_module_version": "1.5.0",
     "model_name": "FloatProgressModel",
     "state": {
      "_dom_classes": [],
      "_model_module": "@jupyter-widgets/controls",
      "_model_module_version": "1.5.0",
      "_model_name": "FloatProgressModel",
      "_view_count": null,
      "_view_module": "@jupyter-widgets/controls",
      "_view_module_version": "1.5.0",
      "_view_name": "ProgressView",
      "bar_style": "success",
      "description": "",
      "description_tooltip": null,
      "layout": "IPY_MODEL_6a402270d2fd4a65b7cc01ebb0a8d922",
      "max": 401,
      "min": 0,
      "orientation": "horizontal",
      "style": "IPY_MODEL_1f578de3745f457ea41a7362e91e8a6e",
      "value": 401
     }
    }
   }
  }
 },
 "nbformat": 4,
 "nbformat_minor": 5
}
