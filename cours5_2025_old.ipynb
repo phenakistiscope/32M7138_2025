{
 "cells": [
  {
   "cell_type": "markdown",
   "id": "a191f1bc-e65e-49e1-be24-3bac464dc55d",
   "metadata": {},
   "source": [
    "# Gérer des images + récolte\n",
    "\n",
    "## Du pixel aux images - 32M7138\n",
    "\n",
    "*Printemps 2025 - Université de Genève*\n",
    "\n",
    "*Adrien Jeanrenaud (adrien.jeanrenaud@unige.ch)*"
   ]
  },
  {
   "cell_type": "markdown",
   "id": "bc6b2fd7-c445-4c5b-8ced-8b89e8c053af",
   "metadata": {},
   "source": [
    "<div class=\"alert alert-block alert-info\">\n",
    "<b>Manipulations des images partie 1</b> : jusque là nous avons manipulé les images une par. Dès aujourd'hui, nous allons voir comment manipuler les images en quatité, leur appliquer des transformations et extraire des informations:\n",
    "</div>\n",
    "\n",
    "## **Plan du cours**\n",
    "\n",
    "> **Importer des images**\n",
    "> * Rappel sur les chemins\n",
    "> * Une fonction pour importer un dossier\n",
    "> * Une fonction pour importer seulement des images\n",
    "\n",
    "> **Extraire des informations**\n",
    "> * Comment stocker les informations ?\n",
    "> * Extraire des informations de base\n",
    "> * Extraire des informations à l'aide d'un algorithme de détection d'objets\n",
    "\n",
    "> **Visualiser simplement ses données**\n",
    "> * Vérifier l'extraction des informations\n",
    "> * Visualiser à partir d'un tableau de données"
   ]
  },
  {
   "cell_type": "code",
   "execution_count": 1,
   "id": "33531b85-4818-4e7b-9c40-c83007e1d1a4",
   "metadata": {},
   "outputs": [
    {
     "ename": "ModuleNotFoundError",
     "evalue": "No module named 'google.colab'",
     "output_type": "error",
     "traceback": [
      "\u001b[0;31m---------------------------------------------------------------------------\u001b[0m",
      "\u001b[0;31mModuleNotFoundError\u001b[0m                       Traceback (most recent call last)",
      "Cell \u001b[0;32mIn[1], line 3\u001b[0m\n\u001b[1;32m      1\u001b[0m \u001b[38;5;66;03m# Uniquement pour Google Colab\u001b[39;00m\n\u001b[0;32m----> 3\u001b[0m \u001b[38;5;28;01mfrom\u001b[39;00m \u001b[38;5;21;01mgoogle\u001b[39;00m\u001b[38;5;21;01m.\u001b[39;00m\u001b[38;5;21;01mcolab\u001b[39;00m \u001b[38;5;28;01mimport\u001b[39;00m drive\n\u001b[1;32m      4\u001b[0m drive\u001b[38;5;241m.\u001b[39mmount(\u001b[38;5;124m'\u001b[39m\u001b[38;5;124m/content/drive\u001b[39m\u001b[38;5;124m'\u001b[39m)\n",
      "\u001b[0;31mModuleNotFoundError\u001b[0m: No module named 'google.colab'"
     ]
    }
   ],
   "source": [
    "# Uniquement pour Google Colab\n",
    "\n",
    "from google.colab import drive\n",
    "drive.mount('/content/drive')"
   ]
  },
  {
   "cell_type": "markdown",
   "id": "7e67e43c-1a87-4bd3-b95a-1ced4637d700",
   "metadata": {},
   "source": [
    "## 1. Importer des images\n",
    "\n",
    "Pour importer des images, il faut revenir aux cours précédents et se rappeler comment naviguer sur notre machine et cibler un dossier. Ensuite, il nous faut stocker les images dans une varaible. Le but final est de créer une fonction utilisable en tous temps.\n",
    "\n",
    "### Rappel sur les chemins\n",
    "\n",
    "La librairie \"os\" permet de naviguer sur notre machine et cibler un dossier avec des images."
   ]
  },
  {
   "cell_type": "code",
   "execution_count": null,
   "id": "5eaafcb9-c067-4e79-bff8-2b3cebc47b28",
   "metadata": {},
   "outputs": [],
   "source": [
    "import os"
   ]
  },
  {
   "cell_type": "code",
   "execution_count": null,
   "id": "d6182846-dbfc-4810-b82a-8ce4eea43601",
   "metadata": {},
   "outputs": [],
   "source": [
    "# chercher le chemin à son dossier d'images\n",
    "\n",
    "path = \"images\""
   ]
  },
  {
   "cell_type": "code",
   "execution_count": null,
   "id": "7d239a66-0a78-42a4-9a90-ee3e0aae129c",
   "metadata": {},
   "outputs": [],
   "source": [
    "os.path.isdir(path)"
   ]
  },
  {
   "cell_type": "code",
   "execution_count": null,
   "id": "ea47efd1-6eec-45b4-a52e-0378fdb97266",
   "metadata": {},
   "outputs": [],
   "source": [
    "# fichiers et dossiers au bout du chemin\n",
    "\n",
    "dossier_images = os.listdir(path)\n",
    "print(dossier_images)"
   ]
  },
  {
   "cell_type": "code",
   "execution_count": null,
   "id": "611b84b8-ded1-4c4a-9ac2-2182f0f6a13b",
   "metadata": {},
   "outputs": [],
   "source": [
    "dossier_images[0]"
   ]
  },
  {
   "cell_type": "code",
   "execution_count": null,
   "id": "86b281d8-f918-4762-8334-ae61f0af8879",
   "metadata": {},
   "outputs": [],
   "source": [
    "file = os.path.join(path, dossier_images[0])\n",
    "file"
   ]
  },
  {
   "cell_type": "code",
   "execution_count": null,
   "id": "95e9dbc8-ef67-432e-a437-33138261831d",
   "metadata": {},
   "outputs": [],
   "source": [
    "os.path.isfile(file)"
   ]
  },
  {
   "cell_type": "markdown",
   "id": "a7a0786b-1738-4169-bcc3-8043e994622a",
   "metadata": {},
   "source": [
    "### Une fonction pour importer un dossier\n",
    "\n",
    "Pour importer des images et les stocker il faut principalement:\n",
    "* scanner un dossier à l'aide d'une boucle\n",
    "* lire les images une à une\n",
    "* une liste vide pour stocker les images"
   ]
  },
  {
   "cell_type": "code",
   "execution_count": null,
   "id": "7322f7db-ff95-4c11-94d9-84b2bf8f0fc4",
   "metadata": {},
   "outputs": [],
   "source": [
    "# Créer une boucle\n",
    "\n",
    "dossier = os.listdir(path)\n",
    "for files in dossier:\n",
    "    print(files)"
   ]
  },
  {
   "cell_type": "code",
   "execution_count": null,
   "id": "edcc6dc8-2069-43c5-a26f-6824c08bc048",
   "metadata": {},
   "outputs": [],
   "source": [
    "# Pour lire les images\n",
    "\n",
    "import cv2\n",
    "import matplotlib.pyplot as plt"
   ]
  },
  {
   "cell_type": "code",
   "execution_count": null,
   "id": "03f1ae23-bf47-4fb6-a8d3-d2dd90f3e999",
   "metadata": {},
   "outputs": [],
   "source": [
    "# Lire les images\n",
    "\n",
    "dossier = os.listdir(path)\n",
    "for files in dossier:\n",
    "    image_dossier = os.path.join(path, files) # on joint notre fichier à notre chemin\n",
    "    image = cv2.imread(image_dossier) # on utilise la fonction pour lire les images\n",
    "    print(image)"
   ]
  },
  {
   "cell_type": "code",
   "execution_count": null,
   "id": "3b7da238-1924-43eb-b39f-87d49a53a662",
   "metadata": {},
   "outputs": [],
   "source": [
    "# Lire et enregistrer les images\n",
    "\n",
    "liste_images = [] # on crée une liste pour y enregister nos images\n",
    "dossier = os.listdir(path)\n",
    "for files in dossier:\n",
    "    image_dossier = os.path.join(path, files)\n",
    "    image = cv2.imread(image_dossier)\n",
    "    liste_images.append(image) # après avoir lu nos images, on les enregistre\n",
    "        \n",
    "print(\"Nombre d'images : \", len(liste_images))"
   ]
  },
  {
   "cell_type": "code",
   "execution_count": null,
   "id": "78458845-9384-480d-8fcb-7b71e1418675",
   "metadata": {},
   "outputs": [],
   "source": [
    "liste_images[0]"
   ]
  },
  {
   "cell_type": "code",
   "execution_count": null,
   "id": "f70f8a67-5dd5-4634-b41e-d2daf9c49986",
   "metadata": {},
   "outputs": [],
   "source": [
    "plt.imshow(liste_images[0])\n",
    "plt.show()"
   ]
  },
  {
   "cell_type": "code",
   "execution_count": null,
   "id": "f2514928-439c-408c-956a-a8c35adaf7f3",
   "metadata": {},
   "outputs": [],
   "source": [
    "# Créons une fonction simple pour importer les images d'un dossier\n",
    "\n",
    "def importer_images(path):\n",
    "    \n",
    "    liste_images = []\n",
    "    dossier = os.listdir(path)\n",
    "    for files in dossier:\n",
    "        image_dossier = os.path.join(path, files)\n",
    "        image = cv2.imread(image_dossier)\n",
    "        liste_images.append(image)\n",
    "    return liste_images"
   ]
  },
  {
   "cell_type": "code",
   "execution_count": null,
   "id": "cfd02c8d-6eb7-4e38-9ad7-3738cf06497d",
   "metadata": {},
   "outputs": [],
   "source": [
    "# Utilisons la fonction\n",
    "\n",
    "mes_images = importer_images(path=\"images\")"
   ]
  },
  {
   "cell_type": "code",
   "execution_count": null,
   "id": "5bb02fe5-ead7-4e4f-ae08-b00d391bc392",
   "metadata": {},
   "outputs": [],
   "source": [
    "len(mes_images)"
   ]
  },
  {
   "cell_type": "markdown",
   "id": "93b42dcf-659a-4371-82ec-a2171cd3d55a",
   "metadata": {},
   "source": [
    "### Une fonction pour importer seulement des images\n",
    "\n",
    "Pour importer uniquement les images d'un dossier, il faut ajouter des conditions à notre fonction."
   ]
  },
  {
   "cell_type": "code",
   "execution_count": null,
   "id": "9c4b7fad-3f53-452f-8700-5ca1f21bd360",
   "metadata": {},
   "outputs": [],
   "source": [
    "# Créer une boucle avec une condition\n",
    "\n",
    "dossier = os.listdir(path)\n",
    "for files in dossier:\n",
    "    if files.endswith('.jpg'):\n",
    "        print(files)"
   ]
  },
  {
   "cell_type": "code",
   "execution_count": null,
   "id": "3b22f776-cb87-4edf-b3fe-40458bf076c9",
   "metadata": {},
   "outputs": [],
   "source": [
    "# Créer une boucle avec plusieurs conditions\n",
    "\n",
    "ext = [\".jpeg\", \".png\", \".jpg\"] # choisir les extensions qui définissent nos images\n",
    "dossier = os.listdir(path)\n",
    "for files in dossier:\n",
    "    if files.endswith(tuple(ext)): # ici le code change un peu pour intégrer les extensions\n",
    "        print(files)"
   ]
  },
  {
   "cell_type": "markdown",
   "id": "c77a297f-da1a-4549-be6b-ec7b8592adb3",
   "metadata": {},
   "source": [
    "**Profitons-en pour changer l'ordre des canaux de couleurs**"
   ]
  },
  {
   "cell_type": "code",
   "execution_count": null,
   "id": "265267e2-2d1d-47ad-b597-4c5de01a782d",
   "metadata": {},
   "outputs": [],
   "source": [
    "def importer_images(path):\n",
    "\n",
    "    liste_images = []\n",
    "    ext = [\".jpeg\", \".png\", \".jpg\"]\n",
    "    dossier = os.listdir(path)\n",
    "    for files in dossier:\n",
    "        if files.endswith(tuple(ext)):\n",
    "            image_dossier = os.path.join(path, files)\n",
    "            image = cv2.imread(image_dossier)\n",
    "            image = cv2.cvtColor(image, cv2.COLOR_BGR2RGB)\n",
    "            liste_images.append(image)\n",
    "    return liste_images"
   ]
  },
  {
   "cell_type": "code",
   "execution_count": null,
   "id": "171f312b-54cb-42fe-8e34-dde282bcc630",
   "metadata": {},
   "outputs": [],
   "source": [
    "# Utilisons la fonction\n",
    "\n",
    "mes_images = importer_images(path=path)"
   ]
  },
  {
   "cell_type": "code",
   "execution_count": null,
   "id": "fb5adaa7-1a3e-4912-8bb9-30bdd351ea87",
   "metadata": {},
   "outputs": [],
   "source": [
    "len(mes_images)"
   ]
  },
  {
   "cell_type": "code",
   "execution_count": null,
   "id": "7d206f49-7dbe-4663-829f-f0d05c61649d",
   "metadata": {},
   "outputs": [],
   "source": [
    "plt.imshow(mes_images[0])\n",
    "plt.show()"
   ]
  },
  {
   "cell_type": "markdown",
   "id": "6f2fd42f-8644-4b17-99a6-6e9643fb0a90",
   "metadata": {},
   "source": [
    "**Profitons-en pour garder le nom des images**"
   ]
  },
  {
   "cell_type": "code",
   "execution_count": null,
   "id": "a8b7e285-4fab-4462-aed3-fc874d0256be",
   "metadata": {},
   "outputs": [],
   "source": [
    "def importer_images(path):\n",
    "\n",
    "    filenames = []\n",
    "    liste_images = []\n",
    "    ext = [\".jpeg\", \".png\", \".jpg\"]\n",
    "    dossier = os.listdir(path)\n",
    "    for files in dossier:\n",
    "        if files.endswith(tuple(ext)):\n",
    "            image_dossier = os.path.join(path, files)\n",
    "            image = cv2.imread(image_dossier)\n",
    "            image = cv2.cvtColor(image, cv2.COLOR_BGR2RGB)\n",
    "            filenames.append(image_dossier)\n",
    "            liste_images.append(image)\n",
    "    return liste_images, filenames"
   ]
  },
  {
   "cell_type": "code",
   "execution_count": null,
   "id": "c40fcf1f-a64b-40ca-90dd-d92598788907",
   "metadata": {},
   "outputs": [],
   "source": [
    "# Utilisons la fonction\n",
    "\n",
    "mes_images, files2 = importer_images(path=path)"
   ]
  },
  {
   "cell_type": "code",
   "execution_count": null,
   "id": "e39abbcc-070b-4deb-a11b-f4dfdbf336dd",
   "metadata": {},
   "outputs": [],
   "source": [
    "len(mes_images)"
   ]
  },
  {
   "cell_type": "code",
   "execution_count": null,
   "id": "165dc3df-c2b2-4f5a-98d9-c393ff35fc1c",
   "metadata": {},
   "outputs": [],
   "source": [
    "files2"
   ]
  },
  {
   "cell_type": "markdown",
   "id": "d98e3acc-07f6-4af8-9aa8-4862ddd0651e",
   "metadata": {},
   "source": [
    "## 2. Extraire des informations\n",
    "\n",
    "Lorsqu'on importe un dossier avec des images, il peut être utile d'en extraire des informations. Ces informations nous permettent de décrire nos données tout en rendant notre fonction plus robuste.\n",
    "\n",
    "### Rappel sur les informations\n",
    "\n",
    "Les informations sont d'une part extraites et d'autres part stockées.\n",
    "\n",
    "#### Les dictionnaires"
   ]
  },
  {
   "cell_type": "code",
   "execution_count": null,
   "id": "58cb2a18-3346-47cb-8c2f-64909614f7eb",
   "metadata": {},
   "outputs": [],
   "source": [
    "# Rappel sur les dictionnaires\n",
    "\n",
    "# un dictionnaire se définit par des {}\n",
    "# la clé se définit sur la gauche, entre \" \"\n",
    "# entre la clé et la valeur, il y a :\n",
    "# la valeur se définit sur la droit, selon le type (str, int, float, ...)\n",
    "# entre chaque ligne, il y a une ,\n",
    "\n",
    "eleve = { \n",
    "    \"nom\" : \"Adrien\", \n",
    "    \"prenom\" : \"Jeanrenaud\"\n",
    "}"
   ]
  },
  {
   "cell_type": "code",
   "execution_count": null,
   "id": "c5dd6439-4860-4aec-a507-db09d011b24a",
   "metadata": {},
   "outputs": [],
   "source": [
    "# L'objet\n",
    "\n",
    "print(eleve)"
   ]
  },
  {
   "cell_type": "code",
   "execution_count": null,
   "id": "197495b9-dafd-4d42-9aa8-fb3839107424",
   "metadata": {},
   "outputs": [],
   "source": [
    "# Pour accéder aux éléments, par les clés\n",
    "\n",
    "print(eleve[\"nom\"])"
   ]
  },
  {
   "cell_type": "code",
   "execution_count": null,
   "id": "63d94a84-edb9-4d6a-a4cb-b3d70ecfa8d0",
   "metadata": {},
   "outputs": [],
   "source": [
    "eleves = { \n",
    "    \"nom\" : [\"Adrien\", \"Jean\", \"Michel\"], \n",
    "    \"prenom\" : [\"Jeanrenaud\", \"Martin\", \"Dupont\"]\n",
    "}"
   ]
  },
  {
   "cell_type": "code",
   "execution_count": null,
   "id": "b0b37b27-5175-4052-a396-abaaa2ad8fa9",
   "metadata": {},
   "outputs": [],
   "source": [
    "print(eleves)"
   ]
  },
  {
   "cell_type": "code",
   "execution_count": null,
   "id": "ea8e094c-6251-4cb6-92d8-ded575cd9dae",
   "metadata": {},
   "outputs": [],
   "source": [
    "print(eleves[\"nom\"])"
   ]
  },
  {
   "cell_type": "code",
   "execution_count": null,
   "id": "a18ce072-424a-4914-a648-6b7bc700a828",
   "metadata": {},
   "outputs": [],
   "source": [
    "print(eleves[\"nom\"][0])"
   ]
  },
  {
   "cell_type": "code",
   "execution_count": null,
   "id": "e1d2f31f-6297-419c-93d4-df4e9bae593a",
   "metadata": {},
   "outputs": [],
   "source": [
    "#itérer dans le dictionnaire\n",
    "\n",
    "for key, value in eleves.items():\n",
    "    print(f\"{key}: {value}\")"
   ]
  },
  {
   "cell_type": "code",
   "execution_count": null,
   "id": "c8c09db6-86f2-49e5-b5d7-26a179294a09",
   "metadata": {},
   "outputs": [],
   "source": []
  },
  {
   "cell_type": "code",
   "execution_count": null,
   "id": "ed730fe3-8375-4615-af85-c75bb0f32535",
   "metadata": {},
   "outputs": [],
   "source": [
    "# passer d'un dictionnaire à un tableur\n",
    "\n",
    "import pandas as pd"
   ]
  },
  {
   "cell_type": "code",
   "execution_count": null,
   "id": "fb03d810-a4d6-4f80-9def-97a05ed134c2",
   "metadata": {},
   "outputs": [],
   "source": [
    "df = pd.DataFrame.from_dict(eleves, orient ='index')\n",
    "df"
   ]
  },
  {
   "cell_type": "markdown",
   "id": "49129920-1a41-4042-a702-23be57822449",
   "metadata": {},
   "source": [
    "### Extraires des informations de base\n",
    "\n",
    "Nous pouvons reprendre la fonction précédente et ajouter du code pour extraire et enregistrer les informations"
   ]
  },
  {
   "cell_type": "code",
   "execution_count": null,
   "id": "cc41045b-8a29-4835-a46b-724c43cceba5",
   "metadata": {},
   "outputs": [],
   "source": [
    "# Où récupérer les informations ?\n",
    "\n",
    "ext = [\".jpeg\", \".png\", \".jpg\"] # choisir les extensions qui définissent nos images\n",
    "dossier = os.listdir(path)\n",
    "for files in dossier:\n",
    "    if files.endswith(tuple(ext)):\n",
    "        image_dossier = os.path.join(path, files)\n",
    "        file, ext = os.path.splitext(files)\n",
    "        image = cv2.imread(image_dossier)\n",
    "        print(image.shape, file, ext)"
   ]
  },
  {
   "cell_type": "code",
   "execution_count": null,
   "id": "39e5a418-d420-472c-80ad-7fa5eb678587",
   "metadata": {},
   "outputs": [],
   "source": [
    "# Tout enregistrer dans un dictionnaire\n",
    "\n",
    "liste_dic = [] # comme lorsque nous voulions enregistrer nos images, il faut une liste pour enregistrer le dictionnaire \n",
    "ext = [\".jpeg\", \".png\", \".jpg\"] # choisir les extensions qui définissent nos images\n",
    "dossier = os.listdir(path)\n",
    "for files in dossier[:5]:\n",
    "    if files.endswith(tuple(ext)):\n",
    "        image_dossier = os.path.join(path, files)\n",
    "        file, ext = os.path.splitext(files)\n",
    "        image = cv2.imread(image_dossier)\n",
    "        dic = {\n",
    "            \"nom\": file,\n",
    "            \"ext\": ext,\n",
    "            \"hauteur\": image.shape[0],\n",
    "            \"largeur\": image.shape[1],\n",
    "            \"canaux\": image.shape[2],\n",
    "            \"taille\": image.size\n",
    "        }\n",
    "        liste_dic.append(dic)\n",
    "print(liste_dic)"
   ]
  },
  {
   "cell_type": "code",
   "execution_count": null,
   "id": "61a25c13-1ed3-4e24-8f7d-244c0b8fba65",
   "metadata": {},
   "outputs": [],
   "source": [
    "# passer à un tableur\n",
    "\n",
    "df = pd.DataFrame.from_dict(liste_dic)\n",
    "df"
   ]
  },
  {
   "cell_type": "code",
   "execution_count": null,
   "id": "907036f2-53ad-409d-b399-30862d1a0206",
   "metadata": {},
   "outputs": [],
   "source": []
  },
  {
   "cell_type": "code",
   "execution_count": null,
   "id": "2dc9122a-f059-4606-9cae-f0614e3556af",
   "metadata": {},
   "outputs": [],
   "source": [
    "df.to_csv('infos.csv')"
   ]
  },
  {
   "cell_type": "markdown",
   "id": "b1668e58-365f-42b9-bcb4-c238152f3a13",
   "metadata": {},
   "source": [
    "### Extraire des informations à l'aide d'un algorithme de détection d'objets\n",
    "\n",
    "Sur la base du cours précédent, nous savons maintenant comment appliquer un algorithme pour extraire des informations contenues dans l'image à l'aide d'algorithmes"
   ]
  },
  {
   "cell_type": "code",
   "execution_count": null,
   "id": "341e0c35-2231-4489-8a44-8be8d1889f19",
   "metadata": {},
   "outputs": [],
   "source": []
  },
  {
   "cell_type": "markdown",
   "id": "899eebd0-1af0-4eb6-80fe-31c3b262f071",
   "metadata": {},
   "source": [
    "### Visualiser simplement ses données\n",
    "#### Vérifier l'extraction des informations\n",
    "\n",
    "À partir du dossier et du CSV créer, nous pouvons dans un premier temps vérifier et comptabiliser l'extraction des données."
   ]
  },
  {
   "cell_type": "code",
   "execution_count": null,
   "id": "7abd524d-8494-4ea9-8107-8709ae4daabe",
   "metadata": {},
   "outputs": [],
   "source": [
    "# importer un csv\n",
    "\n",
    "csv = 'infos.csv'\n",
    "df2 = pd.read_csv(csv, index_col=[0])\n",
    "df2"
   ]
  },
  {
   "cell_type": "code",
   "execution_count": null,
   "id": "c2cedeb0-7fc6-4af5-b13b-335b4f4eaccf",
   "metadata": {},
   "outputs": [],
   "source": [
    "# choisir un dossier\n",
    "\n",
    "path"
   ]
  },
  {
   "cell_type": "code",
   "execution_count": null,
   "id": "4ab1d599-a587-4a66-b0fc-f19baf939460",
   "metadata": {},
   "outputs": [],
   "source": []
  },
  {
   "cell_type": "code",
   "execution_count": null,
   "id": "873422f0-bb21-406b-a590-458fc5ad147b",
   "metadata": {},
   "outputs": [],
   "source": []
  },
  {
   "cell_type": "code",
   "execution_count": null,
   "id": "f59e2ffd-5a9a-4feb-9e71-0afd81a12adc",
   "metadata": {},
   "outputs": [],
   "source": [
    "os.path.isdir(path)"
   ]
  },
  {
   "cell_type": "code",
   "execution_count": null,
   "id": "d83f03b2-2c14-4c51-8835-3add73aaf433",
   "metadata": {},
   "outputs": [],
   "source": []
  },
  {
   "cell_type": "code",
   "execution_count": null,
   "id": "ebba9d44-0ab3-45d4-b08e-45793c9226c7",
   "metadata": {},
   "outputs": [],
   "source": []
  },
  {
   "cell_type": "markdown",
   "id": "c7960669-5421-4c49-9abc-6e3dc4505780",
   "metadata": {},
   "source": [
    "#### Visualiser à partir d'un tableau de données"
   ]
  }
 ],
 "metadata": {
  "kernelspec": {
   "display_name": "Python 3 (ipykernel)",
   "language": "python",
   "name": "python3"
  },
  "language_info": {
   "codemirror_mode": {
    "name": "ipython",
    "version": 3
   },
   "file_extension": ".py",
   "mimetype": "text/x-python",
   "name": "python",
   "nbconvert_exporter": "python",
   "pygments_lexer": "ipython3",
   "version": "3.9.19"
  }
 },
 "nbformat": 4,
 "nbformat_minor": 5
}
