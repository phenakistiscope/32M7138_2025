{
 "cells": [
  {
   "cell_type": "markdown",
   "id": "e5832e4f-11a1-4130-a2c1-d3bf8a293ea3",
   "metadata": {},
   "source": [
    "# L’image dans la machine I\n",
    "\n",
    "## Du pixel aux images - 32M7138\n",
    "\n",
    "*Printemps 2025 - Université de Genève*\n",
    "\n",
    "*Adrien Jeanrenaud (adrien.jeanrenaud@unige.ch)*"
   ]
  },
  {
   "cell_type": "markdown",
   "id": "5c3ef4c3-de0a-42c7-8519-8c3cc3fe0374",
   "metadata": {},
   "source": [
    "## Plan du cours\n",
    "\n",
    "> **Lecture**\n",
    "> * (Introduction) Dobson, James E.. The Birth of Computer Vision. University of Minnesota Press, 2023.\n",
    "\n",
    "> **Les bases**\n",
    "> * Importer\n",
    "> * Visualiser\n",
    "> * Enregistrer\n",
    "\n",
    "> **image = matrice**\n",
    "> * Une matrice c'est quoi ?\n",
    "> * La matrice à 1 dimensions: une liste, un tuple, déjà une image\n",
    "> * La matrice à 2 dimensions: valeurs de gris\n",
    "> * La matrice à 3 dimensions: les couleurs\n",
    "> * Les informations de base\n",
    "\n",
    "> **Référentiels de couleurs**\n",
    "> * Red Blue Green : RGB\n",
    "> * Hue Saturation Value : HSV\n",
    "> * Mais encore\n",
    "\n",
    "> **Opérations de base**\n",
    "> * Indexation\n",
    "> * Transformer en valeur de gris\n",
    "> * Histogramme de l'image"
   ]
  },
  {
   "cell_type": "markdown",
   "id": "2f98977c-c7dd-45d2-bd23-81ce60606fff",
   "metadata": {},
   "source": [
    "## Les bases\n",
    "\n",
    "### Importer\n",
    "\n",
    "Pour pouvoir visualiser une image avec Python, il faut d'abord donner le chemin de l'image en entrée. Il y a deux manières d'écrire un chemin:\n",
    "- Chemin absolu\n",
    "- Chemin relatif\n",
    "\n",
    "#### Chemin absolu\n",
    "Le chemin absolu se définit par rapport au dossier \"racine\" de votre machine (cf. Terminal). C'est-à-dire qu'il part du \"premier dossier\", ce qu'on appel la racine. Ensuite, le chemin va de dossier en dossier pour arriver là où se trouve le fichier recherché.\n",
    "\n",
    "**Si vous ne savez pas comme le chemin se nomme, ne vous inquiétez pas: \"os\" est là pour ça!**"
   ]
  },
  {
   "cell_type": "code",
   "execution_count": null,
   "id": "7184b5f6-24f3-42cf-b1b6-f56467181784",
   "metadata": {},
   "outputs": [],
   "source": [
    "# Uniquement pour Google Colab\n",
    "\n",
    "from google.colab import drive\n",
    "drive.mount('/content/drive')"
   ]
  },
  {
   "cell_type": "code",
   "execution_count": null,
   "id": "a5397970-571b-4fb5-88ee-9cc02f39bb2c",
   "metadata": {},
   "outputs": [],
   "source": [
    "!pwd"
   ]
  },
  {
   "cell_type": "code",
   "execution_count": null,
   "id": "789f2935-3b87-4613-8cd9-f48de10ea658",
   "metadata": {},
   "outputs": [],
   "source": [
    "# savoir dans quel dossier nous sommes\n",
    "\n",
    "os.getcwd()"
   ]
  },
  {
   "cell_type": "code",
   "execution_count": null,
   "id": "289f0a0b-152a-4c83-9911-7968346f9ef5",
   "metadata": {},
   "outputs": [],
   "source": [
    "# importer os\n",
    "import os"
   ]
  },
  {
   "cell_type": "code",
   "execution_count": null,
   "id": "d7889a76-a4f3-4d00-aed1-2dfe8b87e026",
   "metadata": {},
   "outputs": [],
   "source": [
    "os.getcwd()"
   ]
  },
  {
   "cell_type": "markdown",
   "id": "629e7b55-a370-4255-be35-269d45774ba9",
   "metadata": {},
   "source": [
    "#### Chemin relatif\n",
    "\n",
    "\n",
    "Le chemin relatif, comme son nom l'indique, est relatif à l'endroit depuis lequel je me trouve (le code). Dans quelle partie de ma machine, dans quelle suite de dossier et quel dossier suis-je actuellement ?\n",
    "\n",
    "**Maintenant, vous savez dans quel dossier vous êtes. Mais comment naviguer?**"
   ]
  },
  {
   "cell_type": "code",
   "execution_count": null,
   "id": "8cdd5963-fe3a-4655-b907-f3f1f9a97fe6",
   "metadata": {},
   "outputs": [],
   "source": [
    "# Pour sortir d'un dossier utiliser les ..\n",
    "\n",
    "path = \"..\""
   ]
  },
  {
   "cell_type": "code",
   "execution_count": null,
   "id": "23f0ff5a-4303-4e59-865e-5ec85bef4ca9",
   "metadata": {},
   "outputs": [],
   "source": [
    "os.listdir(path)"
   ]
  },
  {
   "cell_type": "code",
   "execution_count": null,
   "id": "48c72ee1-fe6f-4df3-866b-78cb799eb3a5",
   "metadata": {},
   "outputs": [],
   "source": [
    "# Pour sortir d'un dossier et aller dans un autre\n",
    "\n",
    "path = \"../code\""
   ]
  },
  {
   "cell_type": "code",
   "execution_count": null,
   "id": "a5a45f78-dea3-426c-a108-fad31346ec38",
   "metadata": {},
   "outputs": [],
   "source": [
    "os.listdir(path)"
   ]
  },
  {
   "cell_type": "markdown",
   "id": "2f7142ad-0edf-48b0-aed5-d06360c2ce80",
   "metadata": {},
   "source": [
    "**On vient de voir la commande \"os.listdir()\". Cela va nous permettre de lister ce que nous avons dans notre dossier, dont une image!**"
   ]
  },
  {
   "cell_type": "code",
   "execution_count": null,
   "id": "39bef1ec-645d-482b-a170-a063c60f666b",
   "metadata": {},
   "outputs": [],
   "source": [
    "# Trouvons une image\n",
    "\n",
    "os.listdir()"
   ]
  },
  {
   "cell_type": "code",
   "execution_count": null,
   "id": "a379e014-281f-4858-b83c-ba7d8694e7bd",
   "metadata": {},
   "outputs": [],
   "source": [
    "# En bash\n",
    "\n",
    "%ls"
   ]
  },
  {
   "cell_type": "code",
   "execution_count": null,
   "id": "4bb78b8c-c222-47ce-a0b6-001de36c46c6",
   "metadata": {},
   "outputs": [],
   "source": [
    "# Mieux encore!\n",
    "\n",
    "%ls -la"
   ]
  },
  {
   "cell_type": "markdown",
   "id": "fe8d7df7-61da-4c0f-b02c-742f0ab993cd",
   "metadata": {},
   "source": [
    "**Maintenant qu'on connait notre chemin et notre fichier on peut faire un chemin à notre fichier**"
   ]
  },
  {
   "cell_type": "code",
   "execution_count": null,
   "id": "eb594983-8b30-41b8-ba11-dad98e851bce",
   "metadata": {},
   "outputs": [],
   "source": [
    "# On peut tout écrire d'un coup, en chemin relatif ou absolu\n",
    "\n",
    "image = \"images/affiche.jpg\""
   ]
  },
  {
   "cell_type": "code",
   "execution_count": null,
   "id": "f2502c2d-3d60-4bd3-bcc0-01cf2981621e",
   "metadata": {},
   "outputs": [],
   "source": [
    "# On peut aussi joindre le chemin et le fichier avec \"os\"\n",
    "\n",
    "chemin = \"images/\"\n",
    "image = \"affiche.jpg\"\n",
    "chemin_image = os.path.join(chemin, image)\n",
    "print(chemin_image)"
   ]
  },
  {
   "cell_type": "markdown",
   "id": "d318ab9d-36a0-403d-b40f-d3ba150f6f19",
   "metadata": {},
   "source": [
    "#### Est-ce bien un chemin ?\n",
    "\n",
    "La mauvaise définition du chemin d'une image est une source d'erreur fréquente. Heureusement il existe des moyens de vérifier "
   ]
  },
  {
   "cell_type": "code",
   "execution_count": null,
   "id": "02a35b97-b5f1-41a7-bf33-8e3f5e793fb1",
   "metadata": {},
   "outputs": [],
   "source": [
    "# d'abord vérifier le chemin au dossier\n",
    "\n",
    "os.path.isdir(\"images\")"
   ]
  },
  {
   "cell_type": "code",
   "execution_count": null,
   "id": "40a58a3e-6faf-449b-8455-83fd7139a75c",
   "metadata": {},
   "outputs": [],
   "source": [
    "# Ensuite vérifier le fichier\n",
    "\n",
    "image = \"images/affiche.jpg\"\n",
    "os.path.isfile(image)"
   ]
  },
  {
   "cell_type": "code",
   "execution_count": null,
   "id": "21032551-37fa-40e0-8c5a-8583d6b96245",
   "metadata": {},
   "outputs": [],
   "source": [
    "# Importer l'image finalement\n",
    "# on définit le chemin\n",
    "\n",
    "path = \"images/affiche.jpg\""
   ]
  },
  {
   "cell_type": "code",
   "execution_count": null,
   "id": "b109bec5-0840-42ea-bfd9-e2cb4cc76674",
   "metadata": {},
   "outputs": [],
   "source": [
    "# on vérifie le chemin\n",
    "\n",
    "os.path.isfile(path)"
   ]
  },
  {
   "cell_type": "code",
   "execution_count": null,
   "id": "6891a691-9d4c-4487-9ea5-ea58065be246",
   "metadata": {},
   "outputs": [],
   "source": [
    "?os.path.isfile"
   ]
  },
  {
   "cell_type": "code",
   "execution_count": null,
   "id": "dafe4837-b935-47e6-a9a3-6081bed945bd",
   "metadata": {},
   "outputs": [],
   "source": [
    "# Ensuite on peut importer avec \"cv2.imread()\"\n",
    "\n",
    "import cv2\n",
    "\n",
    "?cv2.imread"
   ]
  },
  {
   "cell_type": "code",
   "execution_count": null,
   "id": "df552c36-34c0-4a3a-94be-012ec9f0f48c",
   "metadata": {},
   "outputs": [],
   "source": [
    "# une autre librairie\n",
    "from PIL import Image\n",
    "\n",
    "?Image.open"
   ]
  },
  {
   "cell_type": "code",
   "execution_count": null,
   "id": "3e92b998-55b8-4221-9e2a-98c3e83e6471",
   "metadata": {},
   "outputs": [],
   "source": [
    "# on définit notre objet image\n",
    "\n",
    "image = cv2.imread(path)"
   ]
  },
  {
   "cell_type": "markdown",
   "id": "9eba0026-0ea0-4afd-877a-46a88c896909",
   "metadata": {},
   "source": [
    "#### Visualiser"
   ]
  },
  {
   "cell_type": "code",
   "execution_count": null,
   "id": "3f161c9b-0a1b-47ed-8685-3e4c25056b27",
   "metadata": {},
   "outputs": [],
   "source": [
    "# Pour l'instant ça nous parle peu, on verra ce que cela signifie dans un instant\n",
    "\n",
    "image"
   ]
  },
  {
   "cell_type": "code",
   "execution_count": null,
   "id": "36acaa07-99a5-42b6-ad15-76f943a2a946",
   "metadata": {},
   "outputs": [],
   "source": [
    "# importer la librairie\n",
    "\n",
    "import matplotlib.pyplot as plt"
   ]
  },
  {
   "cell_type": "code",
   "execution_count": null,
   "id": "c5426443-c817-4c6b-b4c2-58a91f16b593",
   "metadata": {},
   "outputs": [],
   "source": [
    "# simplement\n",
    "\n",
    "plt.imshow(image)\n",
    "plt.show()"
   ]
  },
  {
   "cell_type": "markdown",
   "id": "2a13644a-c8ba-4b46-98d5-4286eaf2823e",
   "metadata": {},
   "source": [
    "<div class=\"alert alert-block alert-danger\">\n",
    "<b>Oups, on a un petit problème de couleurs non?</b>.\n",
    "</div>"
   ]
  },
  {
   "cell_type": "code",
   "execution_count": null,
   "id": "d80bc02d-cd52-47d7-9165-3d88419f7916",
   "metadata": {},
   "outputs": [],
   "source": [
    "# Il suffit de changer l'ordre à nouveaux\n",
    "# On passe du BlueGreenRed au RedBlueGreen, mais nous verrons ce que ça veut dire dans un instant\n",
    "\n",
    "image = cv2.cvtColor(image, cv2.COLOR_BGR2RGB)\n",
    "plt.imshow(image)\n",
    "plt.show()"
   ]
  },
  {
   "cell_type": "code",
   "execution_count": null,
   "id": "6092b650-bb9a-452d-ae52-552d7ca8c831",
   "metadata": {},
   "outputs": [],
   "source": [
    "# avec PIL, pas besoin de conversion\n",
    "\n",
    "image2 = Image.open(path)\n",
    "plt.imshow(image2)\n",
    "plt.show()"
   ]
  },
  {
   "cell_type": "code",
   "execution_count": null,
   "id": "2165b911-5426-48f7-92e7-be5729efeb88",
   "metadata": {},
   "outputs": [],
   "source": [
    "#### Enregistrer"
   ]
  },
  {
   "cell_type": "code",
   "execution_count": null,
   "id": "beb930e9-c7d6-4fb3-ad0f-af0a3343e35e",
   "metadata": {},
   "outputs": [],
   "source": [
    "# Avec PIL\n",
    "\n",
    "image2.save('nouvelle_image.png')"
   ]
  },
  {
   "cell_type": "markdown",
   "id": "46ce5c26-edbf-440c-af34-59afa72c4616",
   "metadata": {},
   "source": [
    "<div class=\"alert alert-block alert-warning\">\n",
    "<b>Exercice</b>: à partir du code ci-dessous, téléchargez une image d'après sont lien (URL) et visualisez là.</div>"
   ]
  },
  {
   "cell_type": "markdown",
   "id": "1d87c29e-9d89-4e88-ac45-f9d9b425cd62",
   "metadata": {},
   "source": [
    "## image = matrice"
   ]
  },
  {
   "cell_type": "markdown",
   "id": "c479349c-89af-4379-b5f8-7c72e2666de3",
   "metadata": {},
   "source": [
    "### Une matrice c'est quoi ?\n",
    "\n",
    "Une image numérique prend la forme d'une **matrice** : une matrice est un tableau de points caractérisé par des **dimensions** (par exemple, la largeur et la hauteur). Chaque point, chaque case comporte une **valeur** qui représente de l'information. \n",
    "\n",
    "D'une manière générale, une image matricielle est représenté par une grille dont la hauteur et la largeur indiquent le nombre de pixels et la taille de l'image, alors que chaque point renvoie à une valeur de couleur (valeurs de gris pour les images en 2D et couleurs pour les images 3D)\n",
    "\n",
    "<img src=\"https://logodix.com/logo/2067282.png\" title=\"array_1\"/>\n",
    "\n",
    "### La matrice à 1 dimensions: une liste, un tuple, déjà une image\n",
    "\n",
    "Une matrice à 1D prend la forme d'une liste. Par rapport à une image, c'est comme si notre image (avec une hauteur et une largeur) était réduite à sa largeur. \n",
    "\n",
    "Dans certains cas, il est possible qu'une image en 2D soit réduite à 1D afin d'avoir un objet (une liste à 1D) plus manipulable sans toutefois perdre de l'information (par rapport à l'image 2D)"
   ]
  },
  {
   "cell_type": "code",
   "execution_count": null,
   "id": "0fc8c8e0-60bc-4bc7-b17b-075669a7dc94",
   "metadata": {},
   "outputs": [],
   "source": [
    "# Une matrice à 1D\n",
    "# La fonction np.array() permet de créer un tableau de valeurs (array)\n",
    "# une image est un array\n",
    "\n",
    "import numpy as np\n",
    "\n",
    "a = np.array([0,1,2,3,4,5,6,7,8,9])\n",
    "print(a)"
   ]
  },
  {
   "cell_type": "code",
   "execution_count": null,
   "id": "c828f57b-12c0-489e-a9d4-776b2895d656",
   "metadata": {},
   "outputs": [],
   "source": [
    "a.shape"
   ]
  },
  {
   "cell_type": "markdown",
   "id": "bf512add-5127-4a4a-9978-a5a0cec73085",
   "metadata": {},
   "source": [
    "### La matrice à 2 dimensions: valeurs de gris\n",
    "\n",
    "Une image, comme nous la voyons, se caractérise par une hauteur et une largeur, donc par deux dimensions. Ces deux dimensions forment spatialement l'image et chaque point contenu dans cette grille à une valeur. Cette valeur, dans une image 2D, se réfère à une valeur de gris comprise entre 0 et 255.\n",
    "\n",
    "<img src=\"https://external-content.duckduckgo.com/iu/?u=https%3A%2F%2Fmiro.medium.com%2Fmax%2F1386%2F1*bV7S0zACdidh11ikjYpLpQ.png&f=1&nofb=1&ipt=fdde33a6c1082d8f4d5e278d4eb9295103a87ed0ae39e89bce8081c15e12ff6f&ipo=images\" title=\"array_2\"/>\n",
    "\n",
    "Les valeurs de gris vont de 0 à 255, c'est à dire que l'information est représentée par 256 valeurs différentes. Les valeurs de gris dépendent de la manière dont elles sont encodées ; plus généralement, il y a 256 valeurs de 0 (noir) à 255 (blanc)."
   ]
  },
  {
   "cell_type": "code",
   "execution_count": null,
   "id": "f62472fc-f19a-4d86-a9f5-dc4419039fc6",
   "metadata": {},
   "outputs": [],
   "source": [
    "# Une matrice à 2D\n",
    "# La fonction np.array() permet de créer un tableau (array) en 2D, pour cela il suffit de suivre la logique:\n",
    "# la première paire de [] forme la matrice et \n",
    "# à l'intérieur chaque [] forme une ligne dans la matrice, et\n",
    "# à l'inétrieur de ces [] chaque valeur est un point qui dans une image est une valeur de gris\n",
    "\n",
    "b = np.array([[0,1,2],[3,4,5],[6,7,8],[9,10,11]])\n",
    "print(b)"
   ]
  },
  {
   "cell_type": "code",
   "execution_count": null,
   "id": "906ef349-13e1-4795-8023-2eb70cbce576",
   "metadata": {},
   "outputs": [],
   "source": [
    "# Nous pouvons faire un teste pour visualiser notre matrice et ses valeurs de gris\n",
    "\n",
    "plt.imshow(b, cmap=\"gray\", vmin=0, vmax=255) # l'option cmpa=\"gray\" permet de visualiser les valeurs de gris en spéficiant les bornes (entre 0 et 255)\n",
    "plt.show()"
   ]
  },
  {
   "cell_type": "markdown",
   "id": "68b1a189-5a86-4b94-9bc8-4ca1c4b5775b",
   "metadata": {},
   "source": [
    "**Les valeurs choisises sont toutes très proches de 0, on ne voit pas très bien les variations: essayons à nouveau!**"
   ]
  },
  {
   "cell_type": "code",
   "execution_count": null,
   "id": "52354aff-de99-40fa-a6e3-5d215173c4a0",
   "metadata": {},
   "outputs": [],
   "source": [
    "# Un nouvel array à 2D\n",
    "\n",
    "b2 = np.array([[0,112,2],[3,224,5],[136,7,8],[119,101,110]])\n",
    "print(b2)"
   ]
  },
  {
   "cell_type": "code",
   "execution_count": null,
   "id": "ef99a824-f988-4f3a-a55c-44ba0d8fc888",
   "metadata": {},
   "outputs": [],
   "source": [
    "# Visualiser notre matrice et ses valeurs de gris\n",
    "\n",
    "plt.imshow(b2, cmap=\"gray\", vmin=0, vmax=255)\n",
    "plt.show()"
   ]
  },
  {
   "cell_type": "markdown",
   "id": "321b57fc-5b45-4cac-9b82-1eddc132e0e4",
   "metadata": {},
   "source": [
    "### La matrice à 3 dimensions: les couleurs\n",
    "\n",
    "Contrairement à ce que nous voyons sur notre écran, une image de couleurs se déploie numériquement sur trois dimensions. \n",
    "\n",
    "Alors que les deux premières dimensions sont la hauteur et la largeur, la troisième dimension et celle des valeurs de couleurs. Tout comme pour une image en 2D, chaque valeur du tableau est encodée entre 0 et 255, mais c'est l'addition des valeurs des trois matrices qui donne les couleurs et ses nuances.\n",
    "\n",
    "<img src=\"https://external-content.duckduckgo.com/iu/?u=https%3A%2F%2Fbrohrer.github.io%2Fimages%2Fimage_processing%2Frgb_arrays.png&f=1&nofb=1&ipt=d2b56511f6feae071ef2f5d795df4c23076cdc90d482450f89337c061f06cd43&ipo=images\" title=\"array_3\"/>"
   ]
  },
  {
   "cell_type": "code",
   "execution_count": null,
   "id": "86c346db-bb9a-48ee-bea5-4fe5b13606dd",
   "metadata": {},
   "outputs": [],
   "source": [
    "# Une matrice à 3D\n",
    "# La fonction np.array() permet de créer un tableau (array) en 3D, pour cela il suffit de suivre la logique:\n",
    "# la première paire de [] forme la matrice et \n",
    "# à l'intérieur chaque [] forme une ligne dans la matrice, et\n",
    "# à l'intérieur de ces [] chaque [] forme un triplet de valeurs qui s'étend dans la troisième dimension\n",
    "\n",
    "c = np.array([[[123,11,22],\n",
    "               [200,24,5]],\n",
    "               [[60,70,80],\n",
    "              [90,100,11]],\n",
    "               [[120,13,140],\n",
    "               [15,160,170]],\n",
    "                 [[22,210,0],\n",
    "                 [30,42,100]]])\n",
    "print(c)"
   ]
  },
  {
   "cell_type": "code",
   "execution_count": null,
   "id": "ca57ad36-e45e-4812-9d54-d07cbe285c1f",
   "metadata": {},
   "outputs": [],
   "source": [
    "# Visualiser notre matrice et ses couleurs\n",
    "# Jouer avec les valeurs de votre matrice afin de voir intuitivement comment se forment les couleurs\n",
    "\n",
    "plt.imshow(c)\n",
    "plt.show()"
   ]
  },
  {
   "cell_type": "markdown",
   "id": "cdb973c0-b6c0-45e7-8404-68625112d706",
   "metadata": {},
   "source": [
    "### Les informations de base\n",
    "\n",
    "Il existe quelques fonction de base en Python afin de comprendre quel type d'objet nous avons."
   ]
  },
  {
   "cell_type": "code",
   "execution_count": null,
   "id": "91003d55-548b-4f31-9f3b-e525b21a85ce",
   "metadata": {},
   "outputs": [],
   "source": [
    "# Est-ce une image ?\n",
    "\n",
    "type(image)"
   ]
  },
  {
   "cell_type": "code",
   "execution_count": null,
   "id": "71b1f854-924f-4d84-a0d6-487b410c820f",
   "metadata": {},
   "outputs": [],
   "source": [
    "# Est-ce une image ?\n",
    "\n",
    "type(image2)"
   ]
  },
  {
   "cell_type": "code",
   "execution_count": null,
   "id": "2ea7f15e-563d-46d0-9a2b-071111c94b61",
   "metadata": {},
   "outputs": [],
   "source": [
    "# Est-ce une image ?\n",
    "\n",
    "type(b)"
   ]
  },
  {
   "cell_type": "code",
   "execution_count": null,
   "id": "5ff6b47b-d058-4b87-a94b-58b8524d1056",
   "metadata": {},
   "outputs": [],
   "source": [
    "# Quelles dimensions\n",
    "\n",
    "image.shape"
   ]
  },
  {
   "cell_type": "code",
   "execution_count": null,
   "id": "4cb42afa-5f99-40b6-b9e6-d05708db1c39",
   "metadata": {},
   "outputs": [],
   "source": [
    "# Quelles dimensions\n",
    "\n",
    "a.shape"
   ]
  },
  {
   "cell_type": "markdown",
   "id": "2c811f70-0fdb-44b1-b0ae-01ce792e3f96",
   "metadata": {},
   "source": [
    "## Référentiels de couleurs\n",
    "\n",
    "Il existe différentes manière d'encoder les couleurs d'une image numérique, mais la manière la plus courante consiste à faire l'addition de trois couleurs - rouge, vert, bleu - pour obtenir toutes les autres couleurs. Ainsi, nous parlons d'images en RGB (Red, Green, Blue). \n",
    "\n",
    "L'encodage des couleurs est la source du problème dans l'importation des images avec OpenCV (voir ci-dessus). En effet, nous visualisons nos images avec une suite RGB alors qu'OpenCV importe les images avec une suite BGR.\n",
    "\n",
    "### Red Blue Green : RGB\n",
    "\n",
    "\n",
    "<img src=\"https://external-content.duckduckgo.com/iu/?u=https%3A%2F%2Fcdncontribute.geeksforgeeks.org%2Fwp-content%2Fuploads%2FPixel.jpg&f=1&nofb=1&ipt=7cb426810b518f590b1c3e809c55876ab2c8530ec4a3559fd40abebb754ff8fb&ipo=images\" title=\"array_color\"/>\n",
    "\n",
    "Il s'agit simplement d'addtioner les couleurs pour arriver au blanc, et de les soustraires pour arriver au noir.\n",
    "\n",
    "<img src=\"https://external-content.duckduckgo.com/iu/?u=https%3A%2F%2Fthumbs.dreamstime.com%2Fb%2Fadditive-color-mixing-scheme-rgb-colors-theory-151820794.jpg&f=1&nofb=1&ipt=1a310be6ef33188c84014c51bb23af2cd39de0b1a2e1b82c39a3217087c52752&ipo=images\" title=\"array_color2\"/>"
   ]
  },
  {
   "cell_type": "code",
   "execution_count": null,
   "id": "e6e9e6c4-84f1-47fc-9cba-821f0d6d8732",
   "metadata": {},
   "outputs": [],
   "source": [
    "# Reprenons notre matrice ci-dessus et mettons y les triplets des couleurs de base\n",
    "\n",
    "c2 = np.array([[[255,0,0],\n",
    "               [0,255,0],\n",
    "               [0,0,255]],\n",
    "              [[255,0,255],\n",
    "               [0,255,255],\n",
    "               [255,255,0]]])\n",
    "print(c2)\n",
    "\n",
    "plt.imshow(c2)\n",
    "plt.show()"
   ]
  },
  {
   "cell_type": "code",
   "execution_count": null,
   "id": "2309651c-d15d-4938-9550-37702acf742e",
   "metadata": {},
   "outputs": [],
   "source": [
    "# on peut voir chaque matrice séparément grace à l'indexation\n",
    "# les zones claires indiques la présence de la couleur\n",
    "\n",
    "plt.figure(figsize=(15,10))\n",
    "print(c2)\n",
    "plt.subplot(131); plt.imshow(c2[:,:,0], cmap=\"gray\"); plt.title(\"Red\")\n",
    "plt.subplot(132); plt.imshow(c2[:,:,1], cmap=\"gray\"); plt.title(\"Green\")\n",
    "plt.subplot(133); plt.imshow(c2[:,:,2], cmap=\"gray\"); plt.title(\"Blue\")"
   ]
  },
  {
   "cell_type": "code",
   "execution_count": null,
   "id": "1e89d700-5270-4c56-acfd-7d7c78cdb501",
   "metadata": {},
   "outputs": [],
   "source": [
    "red = c2.copy()\n",
    "red"
   ]
  },
  {
   "cell_type": "code",
   "execution_count": null,
   "id": "ed2c7420-4cfc-4677-928a-dfc544f5bc15",
   "metadata": {},
   "outputs": [],
   "source": [
    "red.shape"
   ]
  },
  {
   "cell_type": "code",
   "execution_count": null,
   "id": "994636f6-3799-4f5f-93c9-a699d6d26e19",
   "metadata": {},
   "outputs": [],
   "source": [
    "red[:,:,1] = 0\n",
    "red"
   ]
  },
  {
   "cell_type": "code",
   "execution_count": null,
   "id": "3b4c937e-bf0d-4697-96d2-d0a3234dccca",
   "metadata": {},
   "outputs": [],
   "source": [
    "red.shape"
   ]
  },
  {
   "cell_type": "code",
   "execution_count": null,
   "id": "e92bbda5-3f98-4c86-81b5-cd43bc4651e8",
   "metadata": {},
   "outputs": [],
   "source": [
    "# Visualiser le canal rouge\n",
    "# Faire une copie de l'image et mettre les deux autres cannaux à 0 (en noir)\n",
    "\n",
    "red = c2.copy()\n",
    "red[:,:,1] = red[:,:,2] = 0\n",
    "plt.imshow(red)\n",
    "plt.show()"
   ]
  },
  {
   "cell_type": "code",
   "execution_count": null,
   "id": "ed7e2a85-b365-4655-81e8-1f69e5162b5b",
   "metadata": {},
   "outputs": [],
   "source": [
    "# Visualiser le canal vert\n",
    "# Faire une copie de l'image et mettre les deux autres cannaux à 0 (en noir)\n",
    "\n",
    "green = c2.copy()\n",
    "green[:,:,0] = green[:,:,2] = 0 \n",
    "plt.imshow(green)\n",
    "plt.show()"
   ]
  },
  {
   "cell_type": "code",
   "execution_count": null,
   "id": "43969552-4f86-4ce0-aeae-2e760ecfd8e4",
   "metadata": {},
   "outputs": [],
   "source": [
    "# Visualiser le canal bleu\n",
    "# Faire une copie de l'image et mettre les deux autres cannaux à 0 (en noir)\n",
    "\n",
    "blue = c2.copy()\n",
    "blue[:,:,0] = blue[:,:,1] = 0 \n",
    "plt.imshow(blue)\n",
    "plt.show()"
   ]
  },
  {
   "cell_type": "markdown",
   "id": "cbac48ab-e9db-4342-8703-f9db9d8cf162",
   "metadata": {},
   "source": [
    "**Faisons la même chose avec notre image!**"
   ]
  },
  {
   "cell_type": "code",
   "execution_count": null,
   "id": "8eb19925-4d72-4b43-9916-cd77decdca0e",
   "metadata": {},
   "outputs": [],
   "source": [
    "print(image.shape)\n",
    "\n",
    "plt.imshow(image)\n",
    "plt.show()"
   ]
  },
  {
   "cell_type": "code",
   "execution_count": null,
   "id": "e38ac997-0943-49d7-a573-d9f06810303a",
   "metadata": {},
   "outputs": [],
   "source": [
    "# on peut voir chaque matrice séparément grace à l'indexation\n",
    "\n",
    "plt.figure(figsize=(15,10))\n",
    "print(image)\n",
    "plt.subplot(131); plt.imshow(image[:,:,0], cmap=\"gray\"); plt.title(\"Red\")\n",
    "plt.subplot(132); plt.imshow(image[:,:,1], cmap=\"gray\"); plt.title(\"Green\")\n",
    "plt.subplot(133); plt.imshow(image[:,:,2], cmap=\"gray\"); plt.title(\"Blue\")"
   ]
  },
  {
   "cell_type": "markdown",
   "id": "15706ae7-23b2-41eb-a182-80365a456380",
   "metadata": {},
   "source": [
    "### Hue Saturation Value : HSV\n",
    "\n",
    "L'espace HSV, en français TSV, comprend Hue (Teinte), Saturation et Valeur. L'intérêt de cet espace de couleur est que la couleur est encodée sur un canal uniquement (Teinte). La saturation correspond à l'intensité de la couleur, plus elle sera faible plus la couleur sera fade. La valeur correspond à la brillance, plus elle sera faible plus la couleur sera sombre.\n",
    "\n",
    "<img src=\"https://external-content.duckduckgo.com/iu/?u=https%3A%2F%2Fres.cloudinary.com%2Fpracticaldev%2Fimage%2Ffetch%2Fs--bY6KnFCr--%2Fc_limit%252Cf_auto%252Cfl_progressive%252Cq_auto%252Cw_880%2Fhttps%3A%2F%2Fthepracticaldev.s3.amazonaws.com%2Fi%2F3tffy0gdkf1471xg6mhi.jpeg&f=1&nofb=1&ipt=49377950004c804b3e40029c9dd8f89711a2b84bd72d38afdf5711be5d62e40b&ipo=images\" title=\"array_hsv\"/>"
   ]
  },
  {
   "cell_type": "code",
   "execution_count": null,
   "id": "2a69a84d-7345-4345-8ce9-c8069aed1138",
   "metadata": {},
   "outputs": [],
   "source": [
    "# Modifier puis visualiser en HSV\n",
    "\n",
    "hsv = cv2.cvtColor(image, cv2.COLOR_RGB2HSV)\n",
    "plt.imshow(hsv, cmap='hsv')\n",
    "plt.show()"
   ]
  },
  {
   "cell_type": "code",
   "execution_count": null,
   "id": "44154363-2fc1-431f-ae1a-32b5fac63df6",
   "metadata": {},
   "outputs": [],
   "source": [
    "# voyons chaque canal\n",
    "\n",
    "plt.figure(figsize=(15,10))\n",
    "plt.subplot(131); plt.imshow(hsv[:,:,0], cmap=\"gray\"); plt.title(\"Hue\");\n",
    "plt.subplot(132); plt.imshow(hsv[:,:,1], cmap=\"gray\"); plt.title(\"Saturation\")\n",
    "plt.subplot(133); plt.imshow(hsv[:,:,2], cmap=\"gray\"); plt.title(\"Value\")"
   ]
  },
  {
   "cell_type": "code",
   "execution_count": null,
   "id": "3d3e96ac-f026-472f-a296-b4646fbd9536",
   "metadata": {},
   "outputs": [],
   "source": [
    "plt.figure(figsize=(15,10))\n",
    "plt.subplot(131); plt.imshow(hsv[:,:,0], cmap=\"hsv\"); plt.title(\"Hue\");\n",
    "plt.subplot(132); plt.imshow(image); plt.title(\"Image de base\")"
   ]
  },
  {
   "cell_type": "markdown",
   "id": "edc69c8c-ce26-4447-bd7f-6749d1e63d96",
   "metadata": {},
   "source": [
    "### Mais encore\n",
    "\n",
    "Il existe différentes manières de décrire et d'encoder les couleurs dans les images.\n",
    "\n",
    "<img src=\"https://upload.wikimedia.org/wikipedia/commons/thumb/1/19/SubtractiveColor.svg/1920px-SubtractiveColor.svg.png\" title=\"cmy\"/>\n",
    "<img src=\"https://external-content.duckduckgo.com/iu/?u=http%3A%2F%2F4.bp.blogspot.com%2F_lNzlqVMcIj8%2FS883k71zk3I%2FAAAAAAAABvw%2F2sDaMacB4E8%2Fs1600%2FBasic%2BGamut%2Bgraphic%2BLab.jpg&f=1&nofb=1&ipt=05d18ee527a7b2c647f0a549f02f28e26a221b3990f7b6c646b3e6094f8ca0e7&ipo=images\" title=\"clab\"/>\n",
    "\n",
    "Pour aller plus loin: https://en.wikipedia.org/wiki/List_of_color_spaces_and_their_uses"
   ]
  },
  {
   "cell_type": "markdown",
   "id": "a90b2475-8bdb-40fb-a49e-ec47bcaf3a5e",
   "metadata": {},
   "source": [
    "## Opérations de base"
   ]
  },
  {
   "cell_type": "markdown",
   "id": "bf909c27-1fec-4d0c-8cbb-f8a8d6b130b1",
   "metadata": {},
   "source": [
    "### Indexation\n",
    "\n",
    "Ce type de manipulation permets de nous déplacer sur une image, de cibler une dimensions et d'autres choses que nous verrons pas la suite.\n",
    "\n",
    "#### L'image à 1D: rappel des listes\n",
    "\n",
    "Une image à 1D s'apparente à une liste. On a déjà vu les listes, alors faisons un petit rappel"
   ]
  },
  {
   "cell_type": "code",
   "execution_count": null,
   "id": "3d16f54f-0dd3-46e5-841e-e1fac7a2c99d",
   "metadata": {},
   "outputs": [],
   "source": [
    "# Une matrice à 1D\n",
    "# La fonction np.array() permet de créer un tableau (array)\n",
    "\n",
    "a = np.array([0,1,2,3,4,5,6,7,8,9])\n",
    "print(a)"
   ]
  },
  {
   "cell_type": "code",
   "execution_count": null,
   "id": "6fdfa8dc-7bba-4ee8-bdb5-37b20832d855",
   "metadata": {},
   "outputs": [],
   "source": [
    "# Pour accéder à une valeur on utilise les [] pour déterminer une position (et non la valeur en elle-même!)\n",
    "\n",
    "a[1]"
   ]
  },
  {
   "cell_type": "code",
   "execution_count": null,
   "id": "ace9a1f9-e8fd-4d15-8767-dc72825cc47a",
   "metadata": {},
   "outputs": [],
   "source": [
    "# Mais en Python, la première position commence à 0\n",
    "\n",
    "a[0]"
   ]
  },
  {
   "cell_type": "code",
   "execution_count": null,
   "id": "3c4e681a-1291-4409-842f-e7f847c9215e",
   "metadata": {},
   "outputs": [],
   "source": [
    "# On peut aussi prendre plusieurs valeurs\n",
    "# a[début:fin[ (non compris)\n",
    "\n",
    "a[0:4]"
   ]
  },
  {
   "cell_type": "code",
   "execution_count": null,
   "id": "0548a51b-60c4-4b59-ad08-f1b992d338d3",
   "metadata": {},
   "outputs": [],
   "source": [
    "# On peut donner un ensemble après une certaine position\n",
    "# a[début: jusqu'à la fin] (compris)\n",
    "\n",
    "a[4:]"
   ]
  },
  {
   "cell_type": "code",
   "execution_count": null,
   "id": "9a8cf5c2-9a8f-44d0-b754-7d897f3fdb8f",
   "metadata": {},
   "outputs": [],
   "source": [
    "# On peut donner un ensemble jusqu'à une certaine position\n",
    "# a[depuis le début: fin[ (non compris)\n",
    "\n",
    "a[:4]"
   ]
  },
  {
   "cell_type": "code",
   "execution_count": null,
   "id": "5cbe14ba-842f-4c06-bc6e-b6465e3d0819",
   "metadata": {},
   "outputs": [],
   "source": [
    "# On peut partir depuis la dernière position\n",
    "# a[début: moins les X dernières valeurs] \n",
    "\n",
    "a[:-1]"
   ]
  },
  {
   "cell_type": "code",
   "execution_count": null,
   "id": "ecff707c-8cf5-46fa-910a-398d5f2a2466",
   "metadata": {},
   "outputs": [],
   "source": [
    "# On peut donner un ensemble par la négative\n",
    "# a[les X dernières valeurs:] \n",
    "\n",
    "a[-3:]"
   ]
  },
  {
   "cell_type": "code",
   "execution_count": null,
   "id": "220f77bf-10c2-4856-aba5-a3d3f45a8bfc",
   "metadata": {},
   "outputs": [],
   "source": [
    "# On peut même demander des ensembles plus spécifiques, par exemple prendre une valeur sur deux\n",
    "# a[début inclu: fin inclu: pas entre les valeurs] \n",
    "\n",
    "a[ : :2]"
   ]
  },
  {
   "cell_type": "markdown",
   "id": "29af0503-df75-402a-8db9-39edf96cbb73",
   "metadata": {},
   "source": [
    "#### L'image en valeurs de gris: 2D\n",
    "\n",
    "Sur une image à deux dimensions, l'indexation permet d'acceder aux valeurs du tableau en se déplaçant sur la hauteur et la largeur, entre lignes et colonnes."
   ]
  },
  {
   "cell_type": "code",
   "execution_count": null,
   "id": "f8d40741-8a40-4846-ad82-0bb2f04115db",
   "metadata": {},
   "outputs": [],
   "source": [
    "# Créer une image 2D\n",
    "\n",
    "b = np.array([[0,1,2],[3,4,5],[6,7,8],[9,10,11]])\n",
    "print(b)"
   ]
  },
  {
   "cell_type": "code",
   "execution_count": null,
   "id": "fb2d6c8e-7987-4c90-aa27-1e39927e1691",
   "metadata": {},
   "outputs": [],
   "source": [
    "# Si l'on part de la logique à 1D\n",
    "# un [] permet d'accéder à la ligne\n",
    "\n",
    "b[0]"
   ]
  },
  {
   "cell_type": "code",
   "execution_count": null,
   "id": "41720047-9fd7-41a7-8dd7-7677227a3232",
   "metadata": {},
   "outputs": [],
   "source": [
    "# Accéder à plusieurs lignes\n",
    "\n",
    "b[0:2]"
   ]
  },
  {
   "cell_type": "code",
   "execution_count": null,
   "id": "74047001-e5e2-43af-8c36-f9810113f9d1",
   "metadata": {},
   "outputs": [],
   "source": [
    "# L'utilisation de la virgule permet de passer à une autre dimension\n",
    "# Accéder à la colonne\n",
    "\n",
    "b[:,0]"
   ]
  },
  {
   "cell_type": "code",
   "execution_count": null,
   "id": "ecb4e0f3-5822-4028-9a0c-55fcfa7deca9",
   "metadata": {},
   "outputs": [],
   "source": [
    "# Accéder à plusieurs colonnes\n",
    "\n",
    "b[:,0:2]"
   ]
  },
  {
   "cell_type": "code",
   "execution_count": null,
   "id": "c35e03a9-f28d-4d31-9b1f-4fac1c9a9aaf",
   "metadata": {},
   "outputs": [],
   "source": [
    "# Accéder à plusieurs valeurs sur la ligne\n",
    "# b[ligne, début colonne:fin] \n",
    "\n",
    "b[0,1:3]"
   ]
  },
  {
   "cell_type": "code",
   "execution_count": null,
   "id": "dbf5c3e5-c778-4318-9ff9-f493b5c9291e",
   "metadata": {},
   "outputs": [],
   "source": [
    "# Accéder à plusieurs valeurs sur plusieurs lignes\n",
    "# b[ligne départ:ligne arrivée non-incluse, début colonne: fin non incluse] \n",
    "\n",
    "b[0:2,1:3]"
   ]
  },
  {
   "cell_type": "markdown",
   "id": "2c23b096-90ff-4297-b1eb-4ce592ea4744",
   "metadata": {},
   "source": [
    "### 3D: les images couleurs\n",
    "\n",
    "L'intérêt de l'indexation d'une image à 3D est l'accès aux valeurs qui, dans le troisième dimension, forment la couleur."
   ]
  },
  {
   "cell_type": "code",
   "execution_count": null,
   "id": "d6ff5fdc-8096-4e2d-b3d1-c4af10374bf4",
   "metadata": {},
   "outputs": [],
   "source": [
    "c = np.array([[[255,0,0],\n",
    "               [0,255,0],\n",
    "               [0,0,255]],\n",
    "              [[255,0,255],\n",
    "               [0,255,255],\n",
    "               [255,255,0]]])\n",
    "print(c)\n",
    "\n",
    "plt.imshow(c)\n",
    "plt.show()"
   ]
  },
  {
   "cell_type": "code",
   "execution_count": null,
   "id": "45718b3d-537b-41a1-bb1e-773dadbe8d88",
   "metadata": {},
   "outputs": [],
   "source": [
    "# Si l'on part de la logique à 1D\n",
    "# un [] permet d'accéder à la ligne\n",
    "\n",
    "c[0]"
   ]
  },
  {
   "cell_type": "code",
   "execution_count": null,
   "id": "8bb6ff5d-0688-4389-837e-08a959f09d76",
   "metadata": {},
   "outputs": [],
   "source": [
    "# Sur cette ligne on peut accéder aux deux premières valeurs par exemple\n",
    "\n",
    "c[0,:2]"
   ]
  },
  {
   "cell_type": "code",
   "execution_count": null,
   "id": "13a7bebf-2603-4469-993c-6b107506f273",
   "metadata": {},
   "outputs": [],
   "source": [
    "# Et sur cette ligne à deux valeurs on peut accéder à la première dimension (au rouge par exemple)\n",
    "\n",
    "c[0,:3, 0]"
   ]
  },
  {
   "cell_type": "code",
   "execution_count": null,
   "id": "f5554600-76f1-4b95-b5b0-75c4ca63ced1",
   "metadata": {},
   "outputs": [],
   "source": [
    "# On prend la première colonne\n",
    "\n",
    "c[:,:1,:]"
   ]
  },
  {
   "cell_type": "code",
   "execution_count": null,
   "id": "66aad116-cd32-4f15-b668-801f7cec3a36",
   "metadata": {},
   "outputs": [],
   "source": [
    "# On peut aussi simplement prendre la \"couche\" qui contient la couleur vert\n",
    "\n",
    "c[:,:, 1]"
   ]
  },
  {
   "cell_type": "code",
   "execution_count": null,
   "id": "a40d1ab8-33af-486b-9166-35fdf89dd208",
   "metadata": {},
   "outputs": [],
   "source": [
    "plt.imshow(c[:,:, 1], cmap=\"gray\")\n",
    "plt.show()"
   ]
  },
  {
   "cell_type": "markdown",
   "id": "f131d2db-de90-4702-a6ae-cb6dce491252",
   "metadata": {},
   "source": [
    "### Transformation en valeurs de gris"
   ]
  },
  {
   "cell_type": "code",
   "execution_count": null,
   "id": "354d8639-bca1-4255-8e15-d0f8b1c3f249",
   "metadata": {},
   "outputs": [],
   "source": [
    "# Convertir en niveaux de gris\n",
    "image_gray = cv2.cvtColor(image, cv2.COLOR_BGR2GRAY)\n",
    "\n",
    "plt.imshow(image_gray, cmap=\"gray\")\n",
    "plt.show()\n"
   ]
  },
  {
   "cell_type": "markdown",
   "id": "6ff22b41-4937-44c9-bc90-029127afce08",
   "metadata": {},
   "source": [
    "### Histogramme\n",
    "\n",
    "Montre la répartition des niveaux d'intensité (ou de couleur) d'une image. Il permet d'évaluer rapidement la luminosité, le contraste et la dynamique de l'image. Par exemple, un histogramme concentré à gauche indique une image sombre, tandis qu'un histogramme étalé sur toute la plage montre une bonne répartition des tons, souvent synonyme d'une image bien exposée"
   ]
  },
  {
   "cell_type": "code",
   "execution_count": null,
   "id": "94ebb786-0de8-401b-bd22-81bbfab0b4c7",
   "metadata": {},
   "outputs": [],
   "source": [
    "# Calculer l'histogramme des niveaux de gris\n",
    "histogram = cv2.calcHist([image_gray], [0], None, [256], [0, 256])\n",
    "\n",
    "# Affichage des résultats\n",
    "plt.figure(figsize=(12, 6))\n",
    "\n",
    "# 1. Image en couleur\n",
    "plt.subplot(1, 3, 1)\n",
    "plt.imshow(cv2.cvtColor(image, cv2.COLOR_BGR2RGB))  # Convertir BGR en RGB pour un affichage correct\n",
    "plt.title(\"Image en couleurs\")\n",
    "plt.axis('off')\n",
    "\n",
    "# 2. Image en niveaux de gris\n",
    "plt.subplot(1, 3, 2)\n",
    "plt.imshow(image_gray, cmap='gray')\n",
    "plt.title(\"Image en niveaux de gris\")\n",
    "plt.axis('off')\n",
    "\n",
    "# 3. Histogramme des niveaux de gris\n",
    "plt.subplot(1, 3, 3)\n",
    "plt.plot(histogram, color='black')\n",
    "plt.title(\"Histogramme des niveaux de gris\")\n",
    "plt.xlabel(\"Niveaux de gris\")\n",
    "plt.ylabel(\"Nombre de pixels\")\n",
    "\n",
    "# Afficher les figures\n",
    "plt.tight_layout()\n",
    "plt.show()\n"
   ]
  },
  {
   "cell_type": "code",
   "execution_count": null,
   "id": "1cb06ad0-1b22-4c9d-a6cd-b50ba345e99c",
   "metadata": {},
   "outputs": [],
   "source": [
    "# Séparer les canaux Bleu, Vert, Rouge\n",
    "b_channel, g_channel, r_channel = cv2.split(image)\n",
    "channels = [b_channel, g_channel, r_channel]\n",
    "colors = ['blue', 'green', 'red']\n",
    "\n",
    "# Créer une figure pour affichage\n",
    "plt.figure(figsize=(12, 8))\n",
    "\n",
    "for i, (channel, color) in enumerate(zip(channels, colors)):\n",
    "    # Calculer l'histogramme pour le canal\n",
    "    histogram = cv2.calcHist([channel], [0], None, [256], [0, 256])\n",
    "\n",
    "    # Afficher le canal\n",
    "    plt.subplot(3, 2, i * 2 + 1)\n",
    "    plt.imshow(channel, cmap=\"gray\")\n",
    "    plt.title(f\"Canal {color.capitalize()}\")\n",
    "    plt.axis('off')\n",
    "\n",
    "    # Afficher l'histogramme correspondant\n",
    "    plt.subplot(3, 2, i * 2 + 2)\n",
    "    plt.plot(histogram, color=color)\n",
    "    plt.title(f\"Histogramme du canal {color.capitalize()}\")\n",
    "    plt.xlabel(\"Niveau d'intensité\")\n",
    "    plt.ylabel(\"Nombre de pixels\")\n",
    "    plt.grid(alpha=0.3)\n",
    "\n",
    "# Ajustement de l'affichage\n",
    "plt.tight_layout()\n",
    "plt.show()\n"
   ]
  },
  {
   "cell_type": "code",
   "execution_count": null,
   "id": "a2a62424-63d7-40a7-94b3-30a14a4dce38",
   "metadata": {},
   "outputs": [],
   "source": []
  },
  {
   "cell_type": "code",
   "execution_count": null,
   "id": "cb582155-6993-4185-97c2-ff15203616f0",
   "metadata": {},
   "outputs": [],
   "source": []
  }
 ],
 "metadata": {
  "kernelspec": {
   "display_name": "Python 3 (ipykernel)",
   "language": "python",
   "name": "python3"
  },
  "language_info": {
   "codemirror_mode": {
    "name": "ipython",
    "version": 3
   },
   "file_extension": ".py",
   "mimetype": "text/x-python",
   "name": "python",
   "nbconvert_exporter": "python",
   "pygments_lexer": "ipython3",
   "version": "3.9.19"
  }
 },
 "nbformat": 4,
 "nbformat_minor": 5
}
