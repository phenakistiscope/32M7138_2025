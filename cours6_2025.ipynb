{
 "cells": [
  {
   "cell_type": "markdown",
   "id": "7c022cfc-906c-4a7f-808f-e07c87efb99b",
   "metadata": {},
   "source": [
    "# Visualisation\n",
    "\n",
    "## Du pixel aux images - 32M7138\n",
    "\n",
    "*Printemps 2025 - Université de Genève*\n",
    "\n",
    "*Adrien Jeanrenaud (adrien.jeanrenaud@unige.ch)*"
   ]
  },
  {
   "cell_type": "markdown",
   "id": "095ce0a6-7551-472b-b810-9d174c6a8314",
   "metadata": {},
   "source": [
    "## **Plan du cours**\n",
    "\n",
    "> **Visuliser les images en quantité**\n",
    "> * Avec une une boucle\n",
    "> * Créer une mosaïque\n",
    "> * Autres outils\n",
    "> * Aller plus loin dans la visualisation des métadonnées"
   ]
  },
  {
   "cell_type": "code",
   "execution_count": null,
   "id": "9abb02d0-ee27-41f2-84e1-eda5cb72762d",
   "metadata": {},
   "outputs": [],
   "source": [
    "# colab\n",
    "\n",
    "from google.colab import drive\n",
    "drive.mount('/content/drive')"
   ]
  },
  {
   "cell_type": "code",
   "execution_count": null,
   "id": "a5d8d9b3-8bc3-4c82-bd25-b372c28721de",
   "metadata": {},
   "outputs": [],
   "source": [
    "# librairies\n",
    "import os\n",
    "import pandas as pd\n",
    "import requests\n",
    "import hashlib\n",
    "import cv2\n",
    "import numpy as np\n",
    "from tqdm import tqdm\n",
    "import matplotlib.pyplot as plt\n",
    "import math"
   ]
  },
  {
   "cell_type": "code",
   "execution_count": null,
   "id": "d7ac293b-1fd1-4ae8-98b6-29d2828c97f4",
   "metadata": {},
   "outputs": [],
   "source": [
    "# télécharger les images à partir d'un csv\n",
    "csv_path = \"38-vangogh.csv\"\n",
    "df = pd.read_csv(csv_path)\n",
    "df = df.drop_duplicates()\n",
    "df.head()"
   ]
  },
  {
   "cell_type": "code",
   "execution_count": null,
   "id": "c95a8037-2c6d-46e5-8379-5c7abe5e8b9f",
   "metadata": {},
   "outputs": [],
   "source": [
    "df.info()"
   ]
  },
  {
   "cell_type": "code",
   "execution_count": null,
   "id": "bd5321f5-21e4-4f8f-9628-824c1993c3ea",
   "metadata": {},
   "outputs": [],
   "source": [
    "# créer un nom de fichier, robuste\n",
    "\n",
    "df[\"hash\"] = [hashlib.sha1(str.encode(str(i))).hexdigest() for i in df[\"image_url\"]]\n",
    "df[\"filename\"] = df[\"hash\"] + \".jpg\"\n",
    "df.filename"
   ]
  },
  {
   "cell_type": "code",
   "execution_count": null,
   "id": "cedb8ac8-20d9-4bdf-8f98-f7d643c42089",
   "metadata": {},
   "outputs": [],
   "source": [
    "# télécharger les images\n",
    "\n",
    "output_dir = \"downloaded_images\"\n",
    "os.makedirs(output_dir, exist_ok=True)\n",
    "\n",
    "for _, row in tqdm(df.iterrows()):\n",
    "    try:\n",
    "        url = row[\"image_url\"]\n",
    "        fname = os.path.join(output_dir, row[\"filename\"])\n",
    "        img_data = requests.get(url).content # télécharger\n",
    "        with open(fname, 'wb') as handler: # définir le fichier et son chemin\n",
    "            handler.write(img_data)\n",
    "    except Exception as e:\n",
    "        print(f\"Erreur téléchargement {row['image_url']}: {e}\")"
   ]
  },
  {
   "cell_type": "code",
   "execution_count": null,
   "id": "3631ddc5-bda3-442e-a31f-77e97d798309",
   "metadata": {},
   "outputs": [],
   "source": [
    "# supprimer les images non-téléchargées de notre csv\n",
    "\n",
    "downloaded_images = os.listdir(output_dir)\n",
    "df_clean = df[df[\"filename\"].isin(downloaded_images)]\n",
    "df_clean.info()"
   ]
  },
  {
   "cell_type": "code",
   "execution_count": null,
   "id": "d5c7f6fe-f44a-4c2f-853c-b901428259fc",
   "metadata": {},
   "outputs": [],
   "source": []
  },
  {
   "cell_type": "markdown",
   "id": "d5b53335-a20f-4a78-928f-c97c03ded338",
   "metadata": {},
   "source": [
    "## Visuliser les images en quantité\n",
    "### Avec une une boucle"
   ]
  },
  {
   "cell_type": "code",
   "execution_count": null,
   "id": "057a290d-5a8d-416d-99e8-7e96e791a10c",
   "metadata": {},
   "outputs": [],
   "source": [
    "# nos variables pour la visualisation\n",
    "\n",
    "print(len(os.listdir(output_dir)), \"\\n\")\n",
    "print(df_clean.info())"
   ]
  },
  {
   "cell_type": "code",
   "execution_count": null,
   "id": "717087d9-7296-4b7e-8f5e-25b21693ad52",
   "metadata": {},
   "outputs": [],
   "source": [
    "# faire une plus petite dataframe \n",
    "\n",
    "sub_df_clean = df_clean[:10]\n",
    "sub_df_clean.info()"
   ]
  },
  {
   "cell_type": "code",
   "execution_count": null,
   "id": "bbc86ef4-912a-45da-846f-1a3cab262a4f",
   "metadata": {},
   "outputs": [],
   "source": [
    "# visualiser\n",
    "\n",
    "for _, row in sub_df_clean.iterrows():\n",
    "    file_path = os.path.join(output_dir, row[\"filename\"])\n",
    "    image = cv2.imread(file_path)\n",
    "    image_rgb = cv2.cvtColor(image, cv2.COLOR_BGR2RGB)\n",
    "    title = f\"{row['Title']} - {row['Date']}\"\n",
    "    plt.imshow(image_rgb)\n",
    "    plt.title(title)\n",
    "    plt.axis(\"off\")\n",
    "    plt.show()    \n"
   ]
  },
  {
   "cell_type": "code",
   "execution_count": null,
   "id": "e3f92469-ce60-4a42-987e-a48696cd55f9",
   "metadata": {},
   "outputs": [],
   "source": [
    "# visualiser et sauvegarder en boucle\n",
    "out_dir = \"visualisation_vanGogh\"\n",
    "os.makedirs(out_dir, exist_ok=True)\n",
    "\n",
    "for _, row in sub_df_clean.iterrows():\n",
    "    file_path = os.path.join(output_dir, row[\"filename\"])\n",
    "    image = cv2.imread(file_path)\n",
    "    image_rgb = cv2.cvtColor(image, cv2.COLOR_BGR2RGB)\n",
    "    title = f\"{row['Title']} - {row['Date']}\"\n",
    "    plt.imshow(image_rgb)\n",
    "    plt.title(title)\n",
    "    plt.axis(\"off\")\n",
    "\n",
    "    # Enregistrement (au format PNG par exemple)\n",
    "    out = row[\"filename\"] + \"titleDate_visu.png\"\n",
    "    out_file = os.path.join(out_dir, out)\n",
    "    plt.savefig(out_file, bbox_inches='tight')"
   ]
  },
  {
   "cell_type": "code",
   "execution_count": null,
   "id": "906cdbaa-a723-495f-9289-f0ba39c29ffc",
   "metadata": {},
   "outputs": [],
   "source": []
  },
  {
   "cell_type": "markdown",
   "id": "8b6ce69e-e37c-4fa2-99e5-14b95b5726e2",
   "metadata": {},
   "source": [
    "### Créer une mosaïque"
   ]
  },
  {
   "cell_type": "code",
   "execution_count": null,
   "id": "29dc7b69-f7b5-4ad5-9a1b-9fd3072a8cd9",
   "metadata": {},
   "outputs": [],
   "source": [
    "# Paramètre de la grille\n",
    "cols = 4  # nombre de colonnes\n",
    "images = []\n",
    "titles = []\n",
    "\n",
    "# Charger les images et titres\n",
    "for _, row in sub_df_clean.iterrows():\n",
    "    file_path = os.path.join(output_dir, row[\"filename\"])\n",
    "    image = cv2.imread(file_path)\n",
    "    if image is not None:\n",
    "        image_rgb = cv2.cvtColor(image, cv2.COLOR_BGR2RGB)\n",
    "        images.append(image_rgb)\n",
    "        titles.append(f\"{row['Title']} - {row['Date']}\")\n",
    "\n",
    "# Taille de la figure\n",
    "rows = math.ceil(len(images) / cols)\n",
    "fig, axes = plt.subplots(rows, cols, figsize=(4*cols, 4*rows))\n",
    "\n",
    "# Affichage\n",
    "for idx in range(rows * cols):\n",
    "    r, c = divmod(idx, cols)\n",
    "    ax = axes[r][c] if rows > 1 else axes[c]  # gestion 1D/2D\n",
    "    if idx < len(images):\n",
    "        ax.imshow(images[idx])\n",
    "        ax.set_title(titles[idx], fontsize=10)\n",
    "        ax.axis(\"off\")\n",
    "    else:\n",
    "        ax.axis(\"off\")  # case vide\n",
    "\n",
    "plt.tight_layout()\n",
    "plt.show()\n"
   ]
  },
  {
   "cell_type": "code",
   "execution_count": null,
   "id": "033713a8-38f2-44e3-80cc-c949d0ead1db",
   "metadata": {},
   "outputs": [],
   "source": [
    "# Paramètre de la grille\n",
    "cols = 4  # nombre de colonnes\n",
    "images = []\n",
    "titles = []\n",
    "\n",
    "# Charger les images et titres\n",
    "for _, row in sub_df_clean.iterrows():\n",
    "    file_path = os.path.join(output_dir, row[\"filename\"])\n",
    "    image = cv2.imread(file_path)\n",
    "    if image is not None:\n",
    "        image_rgb = cv2.cvtColor(image, cv2.COLOR_BGR2RGB)\n",
    "        images.append(image_rgb)\n",
    "        titles.append(f\"{row['Title']} - {row['Date']}\")\n",
    "\n",
    "# Taille de la figure\n",
    "rows = math.ceil(len(images) / cols)\n",
    "fig, axes = plt.subplots(rows, cols, figsize=(4*cols, 4*rows))\n",
    "\n",
    "# Affichage\n",
    "for idx in range(rows * cols):\n",
    "    r, c = divmod(idx, cols)\n",
    "    ax = axes[r][c] if rows > 1 else axes[c]  # gestion 1D/2D\n",
    "    if idx < len(images):\n",
    "        ax.imshow(images[idx])\n",
    "        ax.set_title(titles[idx], fontsize=10)\n",
    "        ax.axis(\"off\")\n",
    "    else:\n",
    "        ax.axis(\"off\")  # case vide\n",
    "\n",
    "plt.tight_layout()\n",
    "plt.savefig(\"mosaic_all_images.png\", dpi=200)\n",
    "plt.show()\n"
   ]
  },
  {
   "cell_type": "markdown",
   "id": "b2e916ea-323f-47f3-bd17-754c8d91b7ce",
   "metadata": {},
   "source": [
    "### Autres outils\n",
    "\n",
    "- https://collection-space-navigator.github.io\n",
    "- https://dhlab.yale.edu/projects/pixplot/\n",
    "- https://vikusviewer.fh-potsdam.de\n",
    "- https://visual-computing.com/projects/picarrange\n",
    "- https://github.com/damoncrockett/ivpy\n",
    "\n",
    "### Pour aller plus loin dans la visualisation des métadonnées\n",
    "- https://www.rawgraphs.io\n",
    "- https://kepler.gl\n",
    "- https://studio.foursquare.com\n",
    "- https://flourish.studio"
   ]
  },
  {
   "cell_type": "code",
   "execution_count": null,
   "id": "54774e06-43f9-4081-9ba0-57d2b7467b8d",
   "metadata": {},
   "outputs": [],
   "source": []
  }
 ],
 "metadata": {
  "kernelspec": {
   "display_name": "Python 3 (ipykernel)",
   "language": "python",
   "name": "python3"
  },
  "language_info": {
   "codemirror_mode": {
    "name": "ipython",
    "version": 3
   },
   "file_extension": ".py",
   "mimetype": "text/x-python",
   "name": "python",
   "nbconvert_exporter": "python",
   "pygments_lexer": "ipython3",
   "version": "3.9.19"
  }
 },
 "nbformat": 4,
 "nbformat_minor": 5
}
